{
  "nbformat": 4,
  "nbformat_minor": 0,
  "metadata": {
    "colab": {
      "provenance": []
    },
    "kernelspec": {
      "name": "python3",
      "display_name": "Python 3"
    },
    "language_info": {
      "name": "python"
    },
    "accelerator": "GPU",
    "gpuClass": "standard"
  },
  "cells": [
    {
      "cell_type": "code",
      "source": [
        "!pip install transformers tensorflow"
      ],
      "metadata": {
        "id": "yjGZyJ6a5v8K"
      },
      "execution_count": null,
      "outputs": []
    },
    {
      "cell_type": "code",
      "source": [
        "from google.colab import drive\n",
        "drive.mount('/content/drive')"
      ],
      "metadata": {
        "colab": {
          "base_uri": "https://localhost:8080/"
        },
        "id": "YBBgNx8dZanU",
        "outputId": "d32488e9-0f59-45ba-c18e-ae73ef6b2943"
      },
      "execution_count": 9,
      "outputs": [
        {
          "output_type": "stream",
          "name": "stdout",
          "text": [
            "Drive already mounted at /content/drive; to attempt to forcibly remount, call drive.mount(\"/content/drive\", force_remount=True).\n"
          ]
        }
      ]
    },
    {
      "cell_type": "code",
      "source": [
        "from transformers import AutoTokenizer, TFAutoModelForQuestionAnswering, pipeline, create_optimizer\n",
        "import tensorflow as tf\n",
        "\n",
        "tokenizer = AutoTokenizer.from_pretrained(\"esakrissa/IndoBERT-SQuAD\")\n",
        "\n",
        "num_train_epochs = 20\n",
        "num_train_steps = 3653 * num_train_epochs\n",
        "optimizer, schedule = create_optimizer(\n",
        "    init_lr=1e-05,\n",
        "    num_warmup_steps=0,\n",
        "    num_train_steps=num_train_steps,\n",
        "    weight_decay_rate=0.01,)\n",
        "    \n",
        "\n",
        "model = TFAutoModelForQuestionAnswering.from_pretrained(\"esakrissa/IndoBERT-SQuAD\", from_pt=True)\n",
        "model.compile(optimizer=optimizer, metrics=['accuracy'])\n",
        "model.load_weights('/content/drive/MyDrive/model/model')"
      ],
      "metadata": {
        "colab": {
          "base_uri": "https://localhost:8080/"
        },
        "id": "r-742iZgoOJG",
        "outputId": "1f07277b-85f4-48b9-d0a3-9388958bbc3e"
      },
      "execution_count": 10,
      "outputs": [
        {
          "output_type": "stream",
          "name": "stderr",
          "text": [
            "Some weights of the PyTorch model were not used when initializing the TF 2.0 model TFBertForQuestionAnswering: ['bert.embeddings.position_ids']\n",
            "- This IS expected if you are initializing TFBertForQuestionAnswering from a PyTorch model trained on another task or with another architecture (e.g. initializing a TFBertForSequenceClassification model from a BertForPreTraining model).\n",
            "- This IS NOT expected if you are initializing TFBertForQuestionAnswering from a PyTorch model that you expect to be exactly identical (e.g. initializing a TFBertForSequenceClassification model from a BertForSequenceClassification model).\n",
            "All the weights of TFBertForQuestionAnswering were initialized from the PyTorch model.\n",
            "If your task is similar to the task the model of the checkpoint was trained on, you can already use TFBertForQuestionAnswering for predictions without further training.\n",
            "No loss specified in compile() - the model's internal loss computation will be used as the loss. Don't panic - this is a common way to train TensorFlow models in Transformers! To disable this behaviour please pass a loss argument, or explicitly pass `loss=None` if you do not want your model to compute a loss.\n"
          ]
        },
        {
          "output_type": "execute_result",
          "data": {
            "text/plain": [
              "<tensorflow.python.training.tracking.util.CheckpointLoadStatus at 0x7f41301a9100>"
            ]
          },
          "metadata": {},
          "execution_count": 10
        }
      ]
    },
    {
      "cell_type": "markdown",
      "source": [
        "# TEST 1"
      ],
      "metadata": {
        "id": "JQxfYyy3bYwM"
      }
    },
    {
      "cell_type": "markdown",
      "source": [
        "**Context:** \n",
        " Sudah sejak tahun 1920-an, Ubud terkenal di antara wisatawan barat. Kala itu pelukis Jerman; Walter Spies dan pelukis Belanda; Rudolf Bonnet menetap di sana. Mereka dibantu oleh Tjokorda Gde Agung Sukawati, dari Puri Agung Ubud. Sekarang karya mereka bisa dilihat di Museum Puri Lukisan, Ubud.\n",
        "\n",
        "**Question:**\n",
        " Sejak kapan Ubud terkenal di antara wisatawan barat?"
      ],
      "metadata": {
        "id": "zyCKxsdsBSQb"
      }
    },
    {
      "cell_type": "markdown",
      "source": [
        "# TEST 2"
      ],
      "metadata": {
        "id": "i4f6_kagbsaT"
      }
    },
    {
      "cell_type": "markdown",
      "source": [
        "**Context:**\n",
        " Pangeran Harya Dipanegara (atau biasa dikenal dengan nama Pangeran Diponegoro, lahir di Ngayogyakarta Hadiningrat, 11 November 1785 – meninggal di Makassar, Hindia Belanda, 8 Januari 1855 pada umur 69 tahun) adalah salah seorang pahlawan nasional Republik Indonesia, yang memimpin Perang Diponegoro atau Perang Jawa selama periode tahun 1825 hingga 1830 melawan pemerintah Hindia Belanda. Sejarah mencatat, Perang Diponegoro atau Perang Jawa dikenal sebagai perang yang menelan korban terbanyak dalam sejarah Indonesia, yakni 8.000 korban serdadu Hindia Belanda, 7.000 pribumi, dan 200 ribu orang Jawa serta kerugian materi 25 juta Gulden.\n",
        "\n",
        "**Question:**\n",
        " kapan pangeran diponegoro lahir?"
      ],
      "metadata": {
        "id": "UTQmhcv5Bip-"
      }
    },
    {
      "cell_type": "markdown",
      "source": [
        "## TEST 3"
      ],
      "metadata": {
        "id": "PEZsWK-3cv1q"
      }
    },
    {
      "cell_type": "markdown",
      "source": [
        "**Context:**\n",
        " Pada akhir abad ke-19, saudara Wright, Orville dan Wilbur, mulai bereksperimen dengan glider di Dayton, Ohio. Mereka melakukan uji terowongan angin yang ekstensif dan melakukan observasi yang rinci tentang penerbangan burung. Melalui studi ini, mereka mengembangkan pemahaman tentang prinsip-prinsip penerbangan dan akhirnya membuat pesawat bermesin pertama yang sukses, Wright Flyer, pada tahun 1903.\n",
        "\n",
        "\n",
        "**Question:**\n",
        " Apa yang diteliti oleh saudara Wright untuk mengembangkan pemahaman tentang prinsip-prinsip penerbangan?\n",
        "\n",
        "\n",
        "\n",
        "\n"
      ],
      "metadata": {
        "id": "ogHS7Qq2BHP4"
      }
    },
    {
      "cell_type": "code",
      "source": [
        "\n",
        "qa_pipeline = pipeline(\n",
        "    \"question-answering\",\n",
        "    model=model,\n",
        "    tokenizer=tokenizer\n",
        ")\n",
        "\n",
        "\n",
        "\n",
        "\n",
        "keep_asking = True\n",
        "while keep_asking :\n",
        "  text  = input(\"Please provide a context: \\n\\n\")\n",
        "  question = input(\"\\n\\nBased on the context please provide a question: \\n\\n\")\n",
        "\n",
        "  cur_json = qa_pipeline({\n",
        "    'context': text,\n",
        "    'question': question})\n",
        "\n",
        "  print('\\n\\nJawaban: '+ cur_json['answer']+'     Score: '+str(cur_json['score'])+\"\\n\\n\")\n",
        "\n",
        "  cont = input(\"\\n\\nWould you like to continue(y/n): \")\n",
        "  if cont.lower() == \"y\":\n",
        "    pass\n",
        "  elif cont.lower() == \"n\":\n",
        "    break\n",
        "\n",
        "  \n",
        "\n"
      ],
      "metadata": {
        "id": "G18-v4ZgifVF"
      },
      "execution_count": null,
      "outputs": []
    }
  ]
}