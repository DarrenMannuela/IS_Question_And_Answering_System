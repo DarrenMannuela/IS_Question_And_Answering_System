{
  "cells": [
    {
      "cell_type": "code",
      "execution_count": null,
      "metadata": {
        "id": "8dcWbg00EkQy"
      },
      "outputs": [],
      "source": [
        "!pip install transformers datasets evaluate tensorflow"
      ]
    },
    {
      "cell_type": "code",
      "execution_count": 2,
      "metadata": {
        "id": "6KvEPWByEyld"
      },
      "outputs": [],
      "source": [
        "import collections\n",
        "import numpy as np\n",
        "from tqdm.auto import tqdm\n",
        "import pandas as pd\n",
        "import datasets\n",
        "from datasets import load_dataset, Dataset\n",
        "from transformers import AutoTokenizer, TFAutoModelForQuestionAnswering, DefaultDataCollator, create_optimizer\n",
        "import tensorflow as tf\n",
        "import evaluate\n",
        "import json"
      ]
    },
    {
      "cell_type": "markdown",
      "source": [
        "# Preprocessing"
      ],
      "metadata": {
        "id": "eFwBmZsrbEAf"
      }
    },
    {
      "cell_type": "code",
      "execution_count": 3,
      "metadata": {
        "colab": {
          "base_uri": "https://localhost:8080/",
          "height": 87,
          "referenced_widgets": [
            "6de91e7f86c447ed8aa2f60a205f13c4",
            "41c1b6f3604c44f4800af5f6cb6c8af4",
            "37b1ca5a10a34e3a93a5c42cea0304a1",
            "6c5a6c444b3a49979ea6a3f4c9d49bdb",
            "acf7171e6b114a668702d5c5d805e43f",
            "b44f8027c5fa4d1fb8bd4a7da6ff7b32",
            "89d186e7270f4bd8a467a50d2d737398",
            "36aa47057722483aa9415e74e8e1c2a4",
            "0722ea80a7cc4aa5a8b6af3659defadc",
            "4a767d8b9900424f924a27e699d57263",
            "442cfde7479e43389fcbde8843958687"
          ]
        },
        "id": "nYQVI3_IHpyX",
        "outputId": "18803b8f-ff5b-4b9a-c9a6-24f1a3387de4"
      },
      "outputs": [
        {
          "output_type": "stream",
          "name": "stderr",
          "text": [
            "WARNING:datasets.builder:Found cached dataset squad_id_v2 (/root/.cache/huggingface/datasets/esakrissa___squad_id_v2/squad_id_v2/2.0.0/f11fd101bee12743249dd3954e4f46739df0654e8050dcf6d45aa08d2ef9ceea)\n"
          ]
        },
        {
          "output_type": "display_data",
          "data": {
            "text/plain": [
              "  0%|          | 0/2 [00:00<?, ?it/s]"
            ],
            "application/vnd.jupyter.widget-view+json": {
              "version_major": 2,
              "version_minor": 0,
              "model_id": "6de91e7f86c447ed8aa2f60a205f13c4"
            }
          },
          "metadata": {}
        }
      ],
      "source": [
        "squad = load_dataset('esakrissa/squad_id_v2')"
      ]
    },
    {
      "cell_type": "code",
      "execution_count": 4,
      "metadata": {
        "id": "lU6wSib-NVkF"
      },
      "outputs": [],
      "source": [
        "pd_squad_train = pd.DataFrame(squad['train'][:20000])\n",
        "pd_squad_val = pd.DataFrame(squad['validation'])"
      ]
    },
    {
      "cell_type": "code",
      "execution_count": 5,
      "metadata": {
        "id": "qpxEZlSfOWS8"
      },
      "outputs": [],
      "source": [
        "pd_squad_train = pd_squad_train[pd_squad_train.answers != {'text': [], 'answer_start': []}]\n",
        "pd_squad_val = pd_squad_val[pd_squad_val.answers != {'text': [], 'answer_start': []}]"
      ]
    },
    {
      "cell_type": "code",
      "source": [
        "len(pd_squad_train)"
      ],
      "metadata": {
        "colab": {
          "base_uri": "https://localhost:8080/"
        },
        "id": "_ebTpufsWwab",
        "outputId": "5ee124fd-f261-4fe3-f2fb-3ba17dc3e567"
      },
      "execution_count": 6,
      "outputs": [
        {
          "output_type": "execute_result",
          "data": {
            "text/plain": [
              "14510"
            ]
          },
          "metadata": {},
          "execution_count": 6
        }
      ]
    },
    {
      "cell_type": "code",
      "execution_count": 7,
      "metadata": {
        "id": "yfOZQoONOquz"
      },
      "outputs": [],
      "source": [
        "dataset_train = Dataset.from_dict(pd_squad_train)"
      ]
    },
    {
      "cell_type": "code",
      "execution_count": 8,
      "metadata": {
        "id": "xGvaV3eqO9xl"
      },
      "outputs": [],
      "source": [
        "dataset_val = Dataset.from_dict(pd_squad_val)"
      ]
    },
    {
      "cell_type": "code",
      "execution_count": 9,
      "metadata": {
        "id": "IIER4_66PCS1"
      },
      "outputs": [],
      "source": [
        "dataset_clean = datasets.DatasetDict({\"train\":dataset_train,\"validation\":dataset_val})\n",
        "\n",
        "squad = dataset_clean"
      ]
    },
    {
      "cell_type": "code",
      "execution_count": 10,
      "metadata": {
        "id": "wocnRGYKFrCb"
      },
      "outputs": [],
      "source": [
        "tokenizer = AutoTokenizer.from_pretrained(\"esakrissa/IndoBERT-SQuAD\")"
      ]
    },
    {
      "cell_type": "code",
      "execution_count": 11,
      "metadata": {
        "id": "Aq9AVOyVF9pb"
      },
      "outputs": [],
      "source": [
        "max_length = 384\n",
        "stride = 128\n",
        "\n",
        "def preprocess_training_examples(examples):\n",
        "    questions = [q.strip() for q in examples[\"question\"]]\n",
        "    inputs = tokenizer(\n",
        "        questions,\n",
        "        examples[\"context\"],\n",
        "        max_length=max_length,\n",
        "        truncation=\"only_second\",\n",
        "        stride=stride,\n",
        "        return_overflowing_tokens=True,\n",
        "        return_offsets_mapping=True,\n",
        "        padding=\"max_length\",\n",
        "    )\n",
        "\n",
        "    offset_mapping = inputs.pop(\"offset_mapping\")\n",
        "    sample_map = inputs.pop(\"overflow_to_sample_mapping\")\n",
        "    answers = examples[\"answers\"]\n",
        "    start_positions = []\n",
        "    end_positions = []\n",
        "\n",
        "    for i, offset in enumerate(offset_mapping):\n",
        "        sample_idx = sample_map[i]\n",
        "        answer = answers[sample_idx]\n",
        "        start_char = answer[\"answer_start\"][0]\n",
        "        end_char = answer[\"answer_start\"][0] + len(answer[\"text\"][0])\n",
        "        sequence_ids = inputs.sequence_ids(i)\n",
        "\n",
        "        # Find the start and end of the context\n",
        "        idx = 0\n",
        "        while sequence_ids[idx] != 1:\n",
        "            idx += 1\n",
        "        context_start = idx\n",
        "        while sequence_ids[idx] == 1:\n",
        "            idx += 1\n",
        "        context_end = idx - 1\n",
        "\n",
        "        # If the answer is not fully inside the context, label is (0, 0)\n",
        "        if offset[context_start][0] > start_char or offset[context_end][1] < end_char:\n",
        "            start_positions.append(0)\n",
        "            end_positions.append(0)\n",
        "        else:\n",
        "            # Otherwise it's the start and end token positions\n",
        "            idx = context_start\n",
        "            while idx <= context_end and offset[idx][0] <= start_char:\n",
        "                idx += 1\n",
        "            start_positions.append(idx - 1)\n",
        "\n",
        "            idx = context_end\n",
        "            while idx >= context_start and offset[idx][1] >= end_char:\n",
        "                idx -= 1\n",
        "            end_positions.append(idx + 1)\n",
        "\n",
        "    inputs[\"start_positions\"] = start_positions\n",
        "    inputs[\"end_positions\"] = end_positions\n",
        "    return inputs"
      ]
    },
    {
      "cell_type": "code",
      "execution_count": 12,
      "metadata": {
        "colab": {
          "base_uri": "https://localhost:8080/",
          "height": 49,
          "referenced_widgets": [
            "07d20cc3f135408bac5d85f3e36ccee7",
            "3ed46dda60204adba2e993e81482b643",
            "ed616d12fdeb48d3b3655ac280bc52d5",
            "2e795938af7842b9aab8d5aa23df2e22",
            "2c94dccc6e9d40cea94ac9f9d8eb606e",
            "724eb70a1a56405480e870742131f760",
            "39a88c2ac1884cffa69a2a8a4870ce45",
            "597add91da264d6bbe4f8ca1f5fb8c57",
            "e91e6021bae94d43b8d68e1893e4ffdd",
            "6a135803b2cb49ee85ff2ac8d4cdecfd",
            "877efff51d0a4115a2093fe207a5c6b7"
          ]
        },
        "id": "-Y1YkH_fHmB7",
        "outputId": "e9892fc7-99fc-4697-d679-ad4f5b3c2a0d"
      },
      "outputs": [
        {
          "output_type": "display_data",
          "data": {
            "text/plain": [
              "  0%|          | 0/15 [00:00<?, ?ba/s]"
            ],
            "application/vnd.jupyter.widget-view+json": {
              "version_major": 2,
              "version_minor": 0,
              "model_id": "07d20cc3f135408bac5d85f3e36ccee7"
            }
          },
          "metadata": {}
        }
      ],
      "source": [
        "train_dataset = squad[\"train\"].map(preprocess_training_examples, batched=True, remove_columns=squad[\"train\"].column_names)"
      ]
    },
    {
      "cell_type": "code",
      "execution_count": 13,
      "metadata": {
        "colab": {
          "base_uri": "https://localhost:8080/"
        },
        "id": "luMizzK_6lLY",
        "outputId": "abb8dc50-9007-4d4f-cbfc-aec52e5f822a"
      },
      "outputs": [
        {
          "output_type": "execute_result",
          "data": {
            "text/plain": [
              "Dataset({\n",
              "    features: ['input_ids', 'token_type_ids', 'attention_mask', 'start_positions', 'end_positions'],\n",
              "    num_rows: 14614\n",
              "})"
            ]
          },
          "metadata": {},
          "execution_count": 13
        }
      ],
      "source": [
        "train_dataset"
      ]
    },
    {
      "cell_type": "code",
      "execution_count": 14,
      "metadata": {
        "id": "jCgSfX1qDh0o"
      },
      "outputs": [],
      "source": [
        "def preprocess_validation_function(examples):\n",
        "    questions = [q.strip() for q in examples[\"question\"]]\n",
        "    inputs = tokenizer(\n",
        "        questions,\n",
        "        examples[\"context\"],\n",
        "        max_length=384,\n",
        "        truncation=\"only_second\",\n",
        "        stride=128,\n",
        "        return_overflowing_tokens=True,\n",
        "        return_offsets_mapping=True,\n",
        "        padding=\"max_length\",\n",
        "    )\n",
        "\n",
        "    sample_map = inputs.pop(\"overflow_to_sample_mapping\")\n",
        "    example_ids = []\n",
        "\n",
        "    for i in range(len(inputs[\"input_ids\"])):\n",
        "        sample_idx = sample_map[i]\n",
        "        example_ids.append(examples[\"id\"][sample_idx])\n",
        "\n",
        "        sequence_ids = inputs.sequence_ids(i)\n",
        "        offset = inputs[\"offset_mapping\"][i]\n",
        "        inputs[\"offset_mapping\"][i] = [\n",
        "            o if sequence_ids[k] == 1 else None for k, o in enumerate(offset)\n",
        "        ]\n",
        "\n",
        "    inputs[\"example_id\"] = example_ids\n",
        "    return inputs"
      ]
    },
    {
      "cell_type": "code",
      "execution_count": 15,
      "metadata": {
        "colab": {
          "base_uri": "https://localhost:8080/",
          "height": 49,
          "referenced_widgets": [
            "2e642c916032472098cd03f7a5313153",
            "120a5d6a0d03454d9e56f28e4ac75b3a",
            "98803cdf51c5414c92cbcf97e0bbfe0d",
            "3607ca50838c42b8a51c33139c12174c",
            "5796ed580e314a8d84942092e0a3edd0",
            "cdb34e557dcc47599c192dc4375d51ba",
            "4a23726cc6a441c1be1c60e694fe28e9",
            "eeb91b870fa446e7a4ba3b314f14b591",
            "4991871343924ce2b6a367565964e3a2",
            "bb180cbdb5d2486389eab48522f9cbd6",
            "3ce6ccaf31dc4d65bd29667ca2a3fb2f"
          ]
        },
        "id": "8gu3Aq4tGDEy",
        "outputId": "f44df1e7-973e-4068-aa81-54a56ba84615"
      },
      "outputs": [
        {
          "output_type": "display_data",
          "data": {
            "text/plain": [
              "  0%|          | 0/6 [00:00<?, ?ba/s]"
            ],
            "application/vnd.jupyter.widget-view+json": {
              "version_major": 2,
              "version_minor": 0,
              "model_id": "2e642c916032472098cd03f7a5313153"
            }
          },
          "metadata": {}
        }
      ],
      "source": [
        "validation_dataset = squad['validation'].map(preprocess_validation_function, batched=True, remove_columns=squad[\"validation\"].column_names)"
      ]
    },
    {
      "cell_type": "code",
      "execution_count": 16,
      "metadata": {
        "colab": {
          "base_uri": "https://localhost:8080/",
          "height": 49,
          "referenced_widgets": [
            "54e6c63d2f3043ab9d90f9760073f9ae",
            "2cc8dc9431c84056a0bde469c8fc90de",
            "ee8e6008a61243fa87915984344a03f9",
            "65cb4870e896420d99c4779417b64f37",
            "6f75245a14f148189367945181378636",
            "4f347e7a0281451f90d790ba836a7284",
            "7b4218b74d4e4326907baca09c67885f",
            "a1299902d28046518ea9151dd7707646",
            "46ecde554bb440deb84c48d22d6ab568",
            "78b8fb15cfec44bd8e471ee14c5ee8f9",
            "64f520847dbe4d8da3b73620393fde7c"
          ]
        },
        "id": "ttTk9H6KHNgh",
        "outputId": "5543ef5f-ddd6-47c6-f30b-6aeeda7a9392"
      },
      "outputs": [
        {
          "output_type": "display_data",
          "data": {
            "text/plain": [
              "  0%|          | 0/1 [00:00<?, ?ba/s]"
            ],
            "application/vnd.jupyter.widget-view+json": {
              "version_major": 2,
              "version_minor": 0,
              "model_id": "54e6c63d2f3043ab9d90f9760073f9ae"
            }
          },
          "metadata": {}
        }
      ],
      "source": [
        "small_eval_set = squad[\"validation\"].select(range(100))\n",
        "eval_set = small_eval_set.map(preprocess_validation_function, batched=True, remove_columns=squad[\"validation\"].column_names)"
      ]
    },
    {
      "cell_type": "code",
      "execution_count": 17,
      "metadata": {
        "colab": {
          "base_uri": "https://localhost:8080/"
        },
        "id": "tkQe2l_99Xpx",
        "outputId": "7fe9b0a5-b22e-4a47-a662-f0e8e827bd13"
      },
      "outputs": [
        {
          "output_type": "execute_result",
          "data": {
            "text/plain": [
              "Dataset({\n",
              "    features: ['input_ids', 'token_type_ids', 'attention_mask', 'offset_mapping', 'example_id'],\n",
              "    num_rows: 6032\n",
              "})"
            ]
          },
          "metadata": {},
          "execution_count": 17
        }
      ],
      "source": [
        "validation_dataset"
      ]
    },
    {
      "cell_type": "code",
      "execution_count": 18,
      "metadata": {
        "colab": {
          "base_uri": "https://localhost:8080/"
        },
        "id": "2ZuT6sqkHjpm",
        "outputId": "4ee3b633-a788-4acd-f93e-22f89b5f89c6"
      },
      "outputs": [
        {
          "output_type": "stream",
          "name": "stderr",
          "text": [
            "Some weights of the PyTorch model were not used when initializing the TF 2.0 model TFBertForQuestionAnswering: ['bert.embeddings.position_ids']\n",
            "- This IS expected if you are initializing TFBertForQuestionAnswering from a PyTorch model trained on another task or with another architecture (e.g. initializing a TFBertForSequenceClassification model from a BertForPreTraining model).\n",
            "- This IS NOT expected if you are initializing TFBertForQuestionAnswering from a PyTorch model that you expect to be exactly identical (e.g. initializing a TFBertForSequenceClassification model from a BertForSequenceClassification model).\n",
            "All the weights of TFBertForQuestionAnswering were initialized from the PyTorch model.\n",
            "If your task is similar to the task the model of the checkpoint was trained on, you can already use TFBertForQuestionAnswering for predictions without further training.\n"
          ]
        }
      ],
      "source": [
        "eval_set_for_model = eval_set.remove_columns([\"example_id\", \"offset_mapping\"])\n",
        "eval_set_for_model.set_format(\"numpy\")\n",
        "\n",
        "batch = {k: eval_set_for_model[k] for k in eval_set_for_model.column_names}\n",
        "trained_model = TFAutoModelForQuestionAnswering.from_pretrained(\"esakrissa/IndoBERT-SQuAD\", from_pt=True)\n",
        "\n",
        "outputs = trained_model(**batch)"
      ]
    },
    {
      "cell_type": "code",
      "execution_count": 19,
      "metadata": {
        "id": "3a9lXHdzHxhv"
      },
      "outputs": [],
      "source": [
        "start_logits = outputs.start_logits.numpy()\n",
        "end_logits = outputs.end_logits.numpy()"
      ]
    },
    {
      "cell_type": "code",
      "execution_count": 20,
      "metadata": {
        "id": "Yxb9xtOwHz5g"
      },
      "outputs": [],
      "source": [
        "def compute_metrics(start_logits, end_logits, features, examples):\n",
        "    example_to_features = collections.defaultdict(list)\n",
        "    for idx, feature in enumerate(features):\n",
        "        example_to_features[feature[\"example_id\"]].append(idx)\n",
        "\n",
        "    predicted_answers = []\n",
        "    for example in tqdm(examples):\n",
        "        example_id = example[\"id\"]\n",
        "        context = example[\"context\"]\n",
        "        answers = []\n",
        "\n",
        "        # Loop through all features associated with that example\n",
        "        for feature_index in example_to_features[example_id]:\n",
        "            start_logit = start_logits[feature_index]\n",
        "            end_logit = end_logits[feature_index]\n",
        "            offsets = features[feature_index][\"offset_mapping\"]\n",
        "\n",
        "            start_indexes = np.argsort(start_logit)[-1 : -20 - 1 : -1].tolist()\n",
        "            end_indexes = np.argsort(end_logit)[-1 : -20 - 1 : -1].tolist()\n",
        "            for start_index in start_indexes:\n",
        "                for end_index in end_indexes:\n",
        "                    # Skip answers that are not fully in the context\n",
        "                    if offsets[start_index] is None or offsets[end_index] is None:\n",
        "                        continue\n",
        "                    # Skip answers with a length that is either < 0 or > max_answer_length\n",
        "                    if (\n",
        "                        end_index < start_index\n",
        "                        or end_index - start_index + 1 > 30\n",
        "                    ):\n",
        "                        continue\n",
        "\n",
        "                    answer = {\n",
        "                        \"text\": context[offsets[start_index][0] : offsets[end_index][1]],\n",
        "                        \"logit_score\": start_logit[start_index] + end_logit[end_index],\n",
        "                    }\n",
        "                    answers.append(answer)\n",
        "\n",
        "        # Select the answer with the best score\n",
        "        if len(answers) > 0:\n",
        "            best_answer = max(answers, key=lambda x: x[\"logit_score\"])\n",
        "            predicted_answers.append(\n",
        "                {\"id\": example_id, \"prediction_text\": best_answer[\"text\"]}\n",
        "            )\n",
        "        else:\n",
        "            predicted_answers.append({\"id\": example_id, \"prediction_text\": \"\"})\n",
        "\n",
        "    theoretical_answers = [{\"id\": ex[\"id\"], \"answers\": ex[\"answers\"]} for ex in examples]\n",
        "    return metric.compute(predictions=predicted_answers, references=theoretical_answers)"
      ]
    },
    {
      "cell_type": "code",
      "execution_count": 21,
      "metadata": {
        "id": "gvyZJ77YWFnf"
      },
      "outputs": [],
      "source": [
        "metric = evaluate.load(\"squad\")"
      ]
    },
    {
      "cell_type": "code",
      "execution_count": 22,
      "metadata": {
        "id": "wmHXi-KgGna6"
      },
      "outputs": [],
      "source": [
        "data_collator = DefaultDataCollator(return_tensors=\"tf\")"
      ]
    },
    {
      "cell_type": "code",
      "execution_count": 23,
      "metadata": {
        "colab": {
          "base_uri": "https://localhost:8080/"
        },
        "id": "H27pdQLPGzFS",
        "outputId": "59c89547-5bd1-4cad-c05c-bb6aa3d6ab24"
      },
      "outputs": [
        {
          "output_type": "stream",
          "name": "stderr",
          "text": [
            "Some weights of the PyTorch model were not used when initializing the TF 2.0 model TFBertForQuestionAnswering: ['bert.embeddings.position_ids']\n",
            "- This IS expected if you are initializing TFBertForQuestionAnswering from a PyTorch model trained on another task or with another architecture (e.g. initializing a TFBertForSequenceClassification model from a BertForPreTraining model).\n",
            "- This IS NOT expected if you are initializing TFBertForQuestionAnswering from a PyTorch model that you expect to be exactly identical (e.g. initializing a TFBertForSequenceClassification model from a BertForSequenceClassification model).\n",
            "All the weights of TFBertForQuestionAnswering were initialized from the PyTorch model.\n",
            "If your task is similar to the task the model of the checkpoint was trained on, you can already use TFBertForQuestionAnswering for predictions without further training.\n"
          ]
        }
      ],
      "source": [
        "model = TFAutoModelForQuestionAnswering.from_pretrained(\"esakrissa/IndoBERT-SQuAD\", from_pt=True)"
      ]
    },
    {
      "cell_type": "code",
      "execution_count": 24,
      "metadata": {
        "id": "9yxA696-bO2r"
      },
      "outputs": [],
      "source": [
        "tf_train_dataset = model.prepare_tf_dataset(train_dataset, collate_fn=data_collator, shuffle=True, batch_size=4)\n",
        "tf_eval_dataset = model.prepare_tf_dataset(validation_dataset, collate_fn=data_collator, shuffle=False, batch_size=4)"
      ]
    },
    {
      "cell_type": "code",
      "execution_count": 100,
      "metadata": {
        "id": "bIWnbOrp_jtQ",
        "colab": {
          "base_uri": "https://localhost:8080/"
        },
        "outputId": "c1aabed9-aa9f-4bf2-e07e-f27e2f0e4d9f"
      },
      "outputs": [
        {
          "output_type": "execute_result",
          "data": {
            "text/plain": [
              "3653"
            ]
          },
          "metadata": {},
          "execution_count": 100
        }
      ],
      "source": [
        "len(tf_train_dataset)"
      ]
    },
    {
      "cell_type": "code",
      "execution_count": 26,
      "metadata": {
        "id": "mChR9p1wb5wD",
        "colab": {
          "base_uri": "https://localhost:8080/"
        },
        "outputId": "17a53f0f-a58d-4604-a584-7cc2a420a059"
      },
      "outputs": [
        {
          "output_type": "stream",
          "name": "stderr",
          "text": [
            "No loss specified in compile() - the model's internal loss computation will be used as the loss. Don't panic - this is a common way to train TensorFlow models in Transformers! To disable this behaviour please pass a loss argument, or explicitly pass `loss=None` if you do not want your model to compute a loss.\n"
          ]
        }
      ],
      "source": [
        "num_train_epochs = 20\n",
        "num_train_steps = len(tf_train_dataset) * num_train_epochs\n",
        "optimizer, schedule = create_optimizer(\n",
        "    init_lr=2e-05,\n",
        "    num_warmup_steps=0,\n",
        "    num_train_steps=num_train_steps,\n",
        "    weight_decay_rate=0.01,\n",
        ")\n",
        "model.compile(optimizer=optimizer, metrics=['accuracy'])"
      ]
    },
    {
      "cell_type": "code",
      "execution_count": 27,
      "metadata": {
        "colab": {
          "base_uri": "https://localhost:8080/"
        },
        "id": "fmWrH4ZVczmN",
        "outputId": "bb3c740f-5a92-421a-ad66-14a78956e006"
      },
      "outputs": [
        {
          "output_type": "stream",
          "name": "stdout",
          "text": [
            "Epoch 1/20\n",
            "3653/3653 [==============================] - 218s 56ms/step - loss: 0.9927 - end_logits_accuracy: 0.7321 - start_logits_accuracy: 0.7113 - val_loss: 0.0000e+00 - val_end_logits_accuracy: 0.0000e+00 - val_start_logits_accuracy: 0.0000e+00\n",
            "Epoch 2/20\n",
            "3653/3653 [==============================] - 199s 54ms/step - loss: 0.6436 - end_logits_accuracy: 0.8104 - start_logits_accuracy: 0.8017 - val_loss: 0.0000e+00 - val_end_logits_accuracy: 0.0000e+00 - val_start_logits_accuracy: 0.0000e+00\n",
            "Epoch 3/20\n",
            "3653/3653 [==============================] - 199s 54ms/step - loss: 0.4689 - end_logits_accuracy: 0.8536 - start_logits_accuracy: 0.8492 - val_loss: 0.0000e+00 - val_end_logits_accuracy: 0.0000e+00 - val_start_logits_accuracy: 0.0000e+00\n",
            "Epoch 4/20\n",
            "3653/3653 [==============================] - 200s 55ms/step - loss: 0.3400 - end_logits_accuracy: 0.8926 - start_logits_accuracy: 0.8908 - val_loss: 0.0000e+00 - val_end_logits_accuracy: 0.0000e+00 - val_start_logits_accuracy: 0.0000e+00\n",
            "Epoch 5/20\n",
            "3653/3653 [==============================] - 199s 54ms/step - loss: 0.2438 - end_logits_accuracy: 0.9181 - start_logits_accuracy: 0.9234 - val_loss: 0.0000e+00 - val_end_logits_accuracy: 0.0000e+00 - val_start_logits_accuracy: 0.0000e+00\n",
            "Epoch 6/20\n",
            "3653/3653 [==============================] - 199s 54ms/step - loss: 0.1910 - end_logits_accuracy: 0.9353 - start_logits_accuracy: 0.9408 - val_loss: 0.0000e+00 - val_end_logits_accuracy: 0.0000e+00 - val_start_logits_accuracy: 0.0000e+00\n",
            "Epoch 7/20\n",
            "3653/3653 [==============================] - 199s 54ms/step - loss: 0.1541 - end_logits_accuracy: 0.9488 - start_logits_accuracy: 0.9536 - val_loss: 0.0000e+00 - val_end_logits_accuracy: 0.0000e+00 - val_start_logits_accuracy: 0.0000e+00\n",
            "Epoch 8/20\n",
            "3653/3653 [==============================] - 200s 55ms/step - loss: 0.1139 - end_logits_accuracy: 0.9609 - start_logits_accuracy: 0.9648 - val_loss: 0.0000e+00 - val_end_logits_accuracy: 0.0000e+00 - val_start_logits_accuracy: 0.0000e+00\n",
            "Epoch 9/20\n",
            "3653/3653 [==============================] - 200s 55ms/step - loss: 0.0999 - end_logits_accuracy: 0.9657 - start_logits_accuracy: 0.9701 - val_loss: 0.0000e+00 - val_end_logits_accuracy: 0.0000e+00 - val_start_logits_accuracy: 0.0000e+00\n",
            "Epoch 10/20\n",
            "3653/3653 [==============================] - 199s 54ms/step - loss: 0.0846 - end_logits_accuracy: 0.9710 - start_logits_accuracy: 0.9729 - val_loss: 0.0000e+00 - val_end_logits_accuracy: 0.0000e+00 - val_start_logits_accuracy: 0.0000e+00\n",
            "Epoch 11/20\n",
            "3653/3653 [==============================] - 198s 54ms/step - loss: 0.0641 - end_logits_accuracy: 0.9773 - start_logits_accuracy: 0.9807 - val_loss: 0.0000e+00 - val_end_logits_accuracy: 0.0000e+00 - val_start_logits_accuracy: 0.0000e+00\n",
            "Epoch 12/20\n",
            "3653/3653 [==============================] - 198s 54ms/step - loss: 0.0663 - end_logits_accuracy: 0.9744 - start_logits_accuracy: 0.9822 - val_loss: 0.0000e+00 - val_end_logits_accuracy: 0.0000e+00 - val_start_logits_accuracy: 0.0000e+00\n",
            "Epoch 13/20\n",
            "3653/3653 [==============================] - 198s 54ms/step - loss: 0.0502 - end_logits_accuracy: 0.9820 - start_logits_accuracy: 0.9856 - val_loss: 0.0000e+00 - val_end_logits_accuracy: 0.0000e+00 - val_start_logits_accuracy: 0.0000e+00\n",
            "Epoch 14/20\n",
            "3653/3653 [==============================] - 198s 54ms/step - loss: 0.0396 - end_logits_accuracy: 0.9869 - start_logits_accuracy: 0.9894 - val_loss: 0.0000e+00 - val_end_logits_accuracy: 0.0000e+00 - val_start_logits_accuracy: 0.0000e+00\n",
            "Epoch 15/20\n",
            "3653/3653 [==============================] - 199s 55ms/step - loss: 0.0315 - end_logits_accuracy: 0.9897 - start_logits_accuracy: 0.9898 - val_loss: 0.0000e+00 - val_end_logits_accuracy: 0.0000e+00 - val_start_logits_accuracy: 0.0000e+00\n",
            "Epoch 16/20\n",
            "3653/3653 [==============================] - 199s 55ms/step - loss: 0.0240 - end_logits_accuracy: 0.9922 - start_logits_accuracy: 0.9930 - val_loss: 0.0000e+00 - val_end_logits_accuracy: 0.0000e+00 - val_start_logits_accuracy: 0.0000e+00\n",
            "Epoch 17/20\n",
            "3653/3653 [==============================] - 199s 55ms/step - loss: 0.0193 - end_logits_accuracy: 0.9930 - start_logits_accuracy: 0.9939 - val_loss: 0.0000e+00 - val_end_logits_accuracy: 0.0000e+00 - val_start_logits_accuracy: 0.0000e+00\n",
            "Epoch 18/20\n",
            "3653/3653 [==============================] - 199s 54ms/step - loss: 0.0157 - end_logits_accuracy: 0.9945 - start_logits_accuracy: 0.9951 - val_loss: 0.0000e+00 - val_end_logits_accuracy: 0.0000e+00 - val_start_logits_accuracy: 0.0000e+00\n",
            "Epoch 19/20\n",
            "3653/3653 [==============================] - 198s 54ms/step - loss: 0.0114 - end_logits_accuracy: 0.9960 - start_logits_accuracy: 0.9962 - val_loss: 0.0000e+00 - val_end_logits_accuracy: 0.0000e+00 - val_start_logits_accuracy: 0.0000e+00\n",
            "Epoch 20/20\n",
            "3653/3653 [==============================] - 198s 54ms/step - loss: 0.0080 - end_logits_accuracy: 0.9976 - start_logits_accuracy: 0.9971 - val_loss: 0.0000e+00 - val_end_logits_accuracy: 0.0000e+00 - val_start_logits_accuracy: 0.0000e+00\n"
          ]
        }
      ],
      "source": [
        "history = model.fit(tf_train_dataset, epochs=num_train_epochs, validation_data=tf_eval_dataset,  validation_steps=1)"
      ]
    },
    {
      "cell_type": "code",
      "execution_count": 28,
      "metadata": {
        "id": "YmmOhMbDzjxw",
        "colab": {
          "base_uri": "https://localhost:8080/"
        },
        "outputId": "0b34fdc3-db5f-409a-d798-ad1aa5249cc6"
      },
      "outputs": [
        {
          "output_type": "stream",
          "name": "stdout",
          "text": [
            "3653/3653 [==============================] - 54s 14ms/step - loss: 0.0016 - end_logits_accuracy: 0.9992 - start_logits_accuracy: 0.9995\n"
          ]
        },
        {
          "output_type": "execute_result",
          "data": {
            "text/plain": [
              "[0.0016043720534071326, 0.9991787672042847, 0.999452531337738]"
            ]
          },
          "metadata": {},
          "execution_count": 28
        }
      ],
      "source": [
        "model.evaluate(tf_train_dataset)"
      ]
    },
    {
      "cell_type": "code",
      "source": [
        "predictions = model.predict(tf_eval_dataset)\n",
        "f1_score = compute_metrics(\n",
        "    predictions[\"start_logits\"],\n",
        "    predictions[\"end_logits\"],\n",
        "    validation_dataset,\n",
        "    squad[\"validation\"],\n",
        ")\n",
        "\n"
      ],
      "metadata": {
        "colab": {
          "base_uri": "https://localhost:8080/",
          "height": 67,
          "referenced_widgets": [
            "81149a67302a413bb95dd41f995ca8cf",
            "36aecd04756e4b4d9670c21c25f89449",
            "7ac8b4adc1ff4f4580aedc17a4d885a5",
            "39d445420b384494bd6aa3347624b44c",
            "93bd9a43a76040feadabdadd8dd83dae",
            "65614112dc374959bab5f3ab2f303521",
            "3919f4d43f9640eb917798c519b3fa9b",
            "957c7d082a854185b89f9790b5832b53",
            "140750af9ad2445a9201ed5d80690478",
            "674dd987b2144038b6c3cd07e62593cc",
            "6f3a6615937d4dbd92b2eb14fa729e6a"
          ]
        },
        "id": "9R8gSyeRskoR",
        "outputId": "e09adff5-7a59-45a4-9870-2a4e8cec5ef0"
      },
      "execution_count": 29,
      "outputs": [
        {
          "output_type": "stream",
          "name": "stdout",
          "text": [
            "1508/1508 [==============================] - 78s 50ms/step\n"
          ]
        },
        {
          "output_type": "display_data",
          "data": {
            "text/plain": [
              "  0%|          | 0/5928 [00:00<?, ?it/s]"
            ],
            "application/vnd.jupyter.widget-view+json": {
              "version_major": 2,
              "version_minor": 0,
              "model_id": "81149a67302a413bb95dd41f995ca8cf"
            }
          },
          "metadata": {}
        }
      ]
    },
    {
      "cell_type": "code",
      "source": [
        "f1_score"
      ],
      "metadata": {
        "colab": {
          "base_uri": "https://localhost:8080/"
        },
        "id": "SYuI7MMVspJ3",
        "outputId": "7ca4b17f-4718-4df0-c094-5bbc59de800a"
      },
      "execution_count": 30,
      "outputs": [
        {
          "output_type": "execute_result",
          "data": {
            "text/plain": [
              "{'exact_match': 57.776653171390016, 'f1': 73.96658553465217}"
            ]
          },
          "metadata": {},
          "execution_count": 30
        }
      ]
    },
    {
      "cell_type": "code",
      "source": [
        "from transformers import pipeline\n",
        "\n",
        "qa_pipeline = pipeline(\n",
        "    \"question-answering\",\n",
        "    model=model,\n",
        "    tokenizer=tokenizer\n",
        ")\n",
        "qa_pipeline({\n",
        "    'context': \"\"\"Sudah sejak tahun 1920-an, Ubud terkenal di antara wisatawan barat. Kala itu pelukis Jerman; Walter Spies dan pelukis Belanda; Rudolf Bonnet menetap di sana. Mereka dibantu oleh Tjokorda Gde Agung Sukawati, dari Puri Agung Ubud. Sekarang karya mereka bisa dilihat di Museum Puri Lukisan, Ubud.\"\"\",\n",
        "    'question': \"Sejak kapan Ubud terkenal di antara wisatawan barat?\"\n",
        "})"
      ],
      "metadata": {
        "id": "T45hTLvZUPwU",
        "colab": {
          "base_uri": "https://localhost:8080/"
        },
        "outputId": "e085af33-7534-4251-a395-8002c6ef8fb0"
      },
      "execution_count": 31,
      "outputs": [
        {
          "output_type": "execute_result",
          "data": {
            "text/plain": [
              "{'score': 0.9999994039535522, 'start': 18, 'end': 25, 'answer': '1920-an'}"
            ]
          },
          "metadata": {},
          "execution_count": 31
        }
      ]
    },
    {
      "cell_type": "code",
      "source": [
        "model.save_weights('/content/model/model', save_format='tf')"
      ],
      "metadata": {
        "id": "timPkjgyvbwU"
      },
      "execution_count": 32,
      "outputs": []
    },
    {
      "cell_type": "code",
      "source": [
        "load_model = TFAutoModelForQuestionAnswering.from_pretrained(\"esakrissa/IndoBERT-SQuAD\", from_pt=True)\n",
        "load_model.compile(optimizer=optimizer, metrics=['accuracy'])\n",
        "load_model.load_weights('/content/model/model')"
      ],
      "metadata": {
        "colab": {
          "base_uri": "https://localhost:8080/"
        },
        "id": "Zf-c9xNMzopR",
        "outputId": "50c47ec5-6797-43db-ace0-6c23b1003af7"
      },
      "execution_count": 33,
      "outputs": [
        {
          "output_type": "stream",
          "name": "stderr",
          "text": [
            "Some weights of the PyTorch model were not used when initializing the TF 2.0 model TFBertForQuestionAnswering: ['bert.embeddings.position_ids']\n",
            "- This IS expected if you are initializing TFBertForQuestionAnswering from a PyTorch model trained on another task or with another architecture (e.g. initializing a TFBertForSequenceClassification model from a BertForPreTraining model).\n",
            "- This IS NOT expected if you are initializing TFBertForQuestionAnswering from a PyTorch model that you expect to be exactly identical (e.g. initializing a TFBertForSequenceClassification model from a BertForSequenceClassification model).\n",
            "All the weights of TFBertForQuestionAnswering were initialized from the PyTorch model.\n",
            "If your task is similar to the task the model of the checkpoint was trained on, you can already use TFBertForQuestionAnswering for predictions without further training.\n",
            "No loss specified in compile() - the model's internal loss computation will be used as the loss. Don't panic - this is a common way to train TensorFlow models in Transformers! To disable this behaviour please pass a loss argument, or explicitly pass `loss=None` if you do not want your model to compute a loss.\n"
          ]
        },
        {
          "output_type": "execute_result",
          "data": {
            "text/plain": [
              "<tensorflow.python.training.tracking.util.CheckpointLoadStatus at 0x7f337017a610>"
            ]
          },
          "metadata": {},
          "execution_count": 33
        }
      ]
    },
    {
      "cell_type": "code",
      "source": [
        "from transformers import pipeline\n",
        "\n",
        "qa_pipeline = pipeline(\n",
        "    \"question-answering\",\n",
        "    model=load_model,\n",
        "    tokenizer=tokenizer\n",
        ")\n",
        "qa_pipeline({\n",
        "    'context': \"\"\"Sudah sejak tahun 1920-an, Ubud terkenal di antara wisatawan barat. Kala itu pelukis Jerman; Walter Spies dan pelukis Belanda; Rudolf Bonnet menetap di sana. Mereka dibantu oleh Tjokorda Gde Agung Sukawati, dari Puri Agung Ubud. Sekarang karya mereka bisa dilihat di Museum Puri Lukisan, Ubud.\"\"\",\n",
        "    'question': \"Sejak kapan Ubud terkenal di antara wisatawan barat?\"\n",
        "})"
      ],
      "metadata": {
        "id": "kHg1RPtRMfhx"
      },
      "execution_count": null,
      "outputs": []
    },
    {
      "cell_type": "code",
      "source": [
        "load_model.evaluate(tf_train_dataset)"
      ],
      "metadata": {
        "colab": {
          "base_uri": "https://localhost:8080/"
        },
        "id": "dUz0oQ2V-F1j",
        "outputId": "d193507f-e0bf-43dd-f899-f90dd8d0331b"
      },
      "execution_count": 34,
      "outputs": [
        {
          "output_type": "stream",
          "name": "stdout",
          "text": [
            "3653/3653 [==============================] - 55s 14ms/step - loss: 0.0016 - end_logits_accuracy: 0.9992 - start_logits_accuracy: 0.9995\n"
          ]
        },
        {
          "output_type": "execute_result",
          "data": {
            "text/plain": [
              "[0.0016043696086853743, 0.9991787672042847, 0.999452531337738]"
            ]
          },
          "metadata": {},
          "execution_count": 34
        }
      ]
    },
    {
      "cell_type": "code",
      "execution_count": 35,
      "metadata": {
        "id": "N7cguUC_rR90"
      },
      "outputs": [],
      "source": [
        "with open('/content/model/history.json','w') as h:\n",
        "  json.dump(history.history, h)\n",
        "\n",
        "with open('/content/model/f1_score.json','w') as h:\n",
        "  json.dump(f1_score, h)\n",
        "\n",
        "\n",
        "with open('/content/model/history.json', 'r') as h:\n",
        "  history = json.load(h)\n",
        "\n",
        "\n",
        "with open('/content/model/f1_score.json', 'r') as h:\n",
        "  score = json.load(h)\n"
      ]
    },
    {
      "cell_type": "code",
      "execution_count": 36,
      "metadata": {
        "id": "S08amjPnxY9O",
        "colab": {
          "base_uri": "https://localhost:8080/"
        },
        "outputId": "5ec0111a-af31-4ed3-e21f-80dfcd1905dc"
      },
      "outputs": [
        {
          "output_type": "execute_result",
          "data": {
            "text/plain": [
              "{'loss': [0.992703378200531,\n",
              "  0.6436030864715576,\n",
              "  0.468938410282135,\n",
              "  0.3400147557258606,\n",
              "  0.24384121596813202,\n",
              "  0.1910281479358673,\n",
              "  0.15412849187850952,\n",
              "  0.11386275291442871,\n",
              "  0.09990604966878891,\n",
              "  0.08461251109838486,\n",
              "  0.06414785236120224,\n",
              "  0.06633912026882172,\n",
              "  0.05019211024045944,\n",
              "  0.039645373821258545,\n",
              "  0.031526997685432434,\n",
              "  0.02402651682496071,\n",
              "  0.01929721236228943,\n",
              "  0.015669815242290497,\n",
              "  0.011408142745494843,\n",
              "  0.00804391223937273],\n",
              " 'end_logits_accuracy': [0.7320695519447327,\n",
              "  0.8104298114776611,\n",
              "  0.8536134958267212,\n",
              "  0.8926225304603577,\n",
              "  0.9180810451507568,\n",
              "  0.935258686542511,\n",
              "  0.9488092064857483,\n",
              "  0.9608541131019592,\n",
              "  0.9657130837440491,\n",
              "  0.9709827303886414,\n",
              "  0.9773473739624023,\n",
              "  0.9744045734405518,\n",
              "  0.9820010662078857,\n",
              "  0.9869285225868225,\n",
              "  0.9896660447120667,\n",
              "  0.9921981692314148,\n",
              "  0.9930194616317749,\n",
              "  0.9944565892219543,\n",
              "  0.9959622025489807,\n",
              "  0.9976047277450562],\n",
              " 'start_logits_accuracy': [0.7112647294998169,\n",
              "  0.8016698360443115,\n",
              "  0.8491650819778442,\n",
              "  0.8908431529998779,\n",
              "  0.9233506917953491,\n",
              "  0.9408020973205566,\n",
              "  0.9535998106002808,\n",
              "  0.9648234248161316,\n",
              "  0.9700930714607239,\n",
              "  0.9728989601135254,\n",
              "  0.9807007908821106,\n",
              "  0.982206404209137,\n",
              "  0.9855598211288452,\n",
              "  0.9893922805786133,\n",
              "  0.989802896976471,\n",
              "  0.992950975894928,\n",
              "  0.9939091205596924,\n",
              "  0.9950725436210632,\n",
              "  0.9961675405502319,\n",
              "  0.9971256256103516],\n",
              " 'val_loss': [0.0,\n",
              "  0.0,\n",
              "  0.0,\n",
              "  0.0,\n",
              "  0.0,\n",
              "  0.0,\n",
              "  0.0,\n",
              "  0.0,\n",
              "  0.0,\n",
              "  0.0,\n",
              "  0.0,\n",
              "  0.0,\n",
              "  0.0,\n",
              "  0.0,\n",
              "  0.0,\n",
              "  0.0,\n",
              "  0.0,\n",
              "  0.0,\n",
              "  0.0,\n",
              "  0.0],\n",
              " 'val_end_logits_accuracy': [0.0,\n",
              "  0.0,\n",
              "  0.0,\n",
              "  0.0,\n",
              "  0.0,\n",
              "  0.0,\n",
              "  0.0,\n",
              "  0.0,\n",
              "  0.0,\n",
              "  0.0,\n",
              "  0.0,\n",
              "  0.0,\n",
              "  0.0,\n",
              "  0.0,\n",
              "  0.0,\n",
              "  0.0,\n",
              "  0.0,\n",
              "  0.0,\n",
              "  0.0,\n",
              "  0.0],\n",
              " 'val_start_logits_accuracy': [0.0,\n",
              "  0.0,\n",
              "  0.0,\n",
              "  0.0,\n",
              "  0.0,\n",
              "  0.0,\n",
              "  0.0,\n",
              "  0.0,\n",
              "  0.0,\n",
              "  0.0,\n",
              "  0.0,\n",
              "  0.0,\n",
              "  0.0,\n",
              "  0.0,\n",
              "  0.0,\n",
              "  0.0,\n",
              "  0.0,\n",
              "  0.0,\n",
              "  0.0,\n",
              "  0.0]}"
            ]
          },
          "metadata": {},
          "execution_count": 36
        }
      ],
      "source": [
        "history"
      ]
    },
    {
      "cell_type": "code",
      "source": [
        "score"
      ],
      "metadata": {
        "colab": {
          "base_uri": "https://localhost:8080/"
        },
        "id": "svpq6ZvQVMKj",
        "outputId": "431b6946-8a47-4c35-b6dc-50633bad17bf"
      },
      "execution_count": 37,
      "outputs": [
        {
          "output_type": "execute_result",
          "data": {
            "text/plain": [
              "{'exact_match': 57.776653171390016, 'f1': 73.96658553465217}"
            ]
          },
          "metadata": {},
          "execution_count": 37
        }
      ]
    },
    {
      "cell_type": "code",
      "source": [
        "from matplotlib import pyplot\n",
        "\n",
        "pyplot.title('Train Loss')\n",
        "pyplot.plot(history['loss'], label=\"Train\")\n",
        "pyplot.xlabel(\"epoch\")\n",
        "pyplot.ylabel(\"loss\")\n",
        "pyplot.text(15, 0.1, \"f1_score: \"+str(int(score['f1']))+\"%\")\n",
        "pyplot.legend()\n",
        "pyplot.show()"
      ],
      "metadata": {
        "id": "s0BYACvObWXK",
        "colab": {
          "base_uri": "https://localhost:8080/",
          "height": 295
        },
        "outputId": "067d14a6-900f-4c39-afc2-0f3d8b5e89a8"
      },
      "execution_count": 79,
      "outputs": [
        {
          "output_type": "display_data",
          "data": {
            "text/plain": [
              "<Figure size 432x288 with 1 Axes>"
            ],
            "image/png": "[encoded data removed]"
          },
          "metadata": {
            "needs_background": "light"
          }
        }
      ]
    },
    {
      "cell_type": "code",
      "source": [
        "pyplot.title('Logits accuracy')\n",
        "pyplot.xlabel(\"epoch\")\n",
        "pyplot.ylabel(\"logits accuracy\")\n",
        "pyplot.plot(history['start_logits_accuracy'], label='start_logits_accuracy')\n",
        "pyplot.plot(history['end_logits_accuracy'], label='end_logits_accuracy')\n",
        "pyplot.legend()\n",
        "pyplot.show()"
      ],
      "metadata": {
        "id": "J7ooKgVyb3DR",
        "colab": {
          "base_uri": "https://localhost:8080/",
          "height": 295
        },
        "outputId": "4d1bb9ce-6232-429e-c737-768543e46518"
      },
      "execution_count": 80,
      "outputs": [
        {
          "output_type": "display_data",
          "data": {
            "text/plain": [
              "<Figure size 432x288 with 1 Axes>"
            ],
            "image/png": "[encoded data removed]"
          },
          "metadata": {
            "needs_background": "light"
          }
        }
      ]
    },
    {
      "cell_type": "markdown",
      "source": [
        "# 2nd test"
      ],
      "metadata": {
        "id": "G8u5qH_xsJvg"
      }
    },
    {
      "cell_type": "code",
      "source": [
        "model = TFAutoModelForQuestionAnswering.from_pretrained(\"esakrissa/IndoBERT-SQuAD\", from_pt=True)"
      ],
      "metadata": {
        "id": "a9kTvLpldJBW",
        "colab": {
          "base_uri": "https://localhost:8080/"
        },
        "outputId": "cffd0674-f0d1-4c39-89f3-5ee39cc37663"
      },
      "execution_count": 40,
      "outputs": [
        {
          "output_type": "stream",
          "name": "stderr",
          "text": [
            "Some weights of the PyTorch model were not used when initializing the TF 2.0 model TFBertForQuestionAnswering: ['bert.embeddings.position_ids']\n",
            "- This IS expected if you are initializing TFBertForQuestionAnswering from a PyTorch model trained on another task or with another architecture (e.g. initializing a TFBertForSequenceClassification model from a BertForPreTraining model).\n",
            "- This IS NOT expected if you are initializing TFBertForQuestionAnswering from a PyTorch model that you expect to be exactly identical (e.g. initializing a TFBertForSequenceClassification model from a BertForSequenceClassification model).\n",
            "All the weights of TFBertForQuestionAnswering were initialized from the PyTorch model.\n",
            "If your task is similar to the task the model of the checkpoint was trained on, you can already use TFBertForQuestionAnswering for predictions without further training.\n"
          ]
        }
      ]
    },
    {
      "cell_type": "code",
      "source": [
        "num_train_epochs = 20\n",
        "num_train_steps = len(tf_train_dataset) * num_train_epochs\n",
        "optimizer, schedule = create_optimizer(\n",
        "    init_lr=1e-05,\n",
        "    num_warmup_steps=0,\n",
        "    num_train_steps=num_train_steps,\n",
        "    weight_decay_rate=0.01,\n",
        "    \n",
        ")\n",
        "model.compile(optimizer=optimizer, metrics=['accuracy'])"
      ],
      "metadata": {
        "id": "KJv6BVlacv-J",
        "colab": {
          "base_uri": "https://localhost:8080/"
        },
        "outputId": "ec3e6bc5-102e-47a0-b55b-312c3d8cc59c"
      },
      "execution_count": 41,
      "outputs": [
        {
          "output_type": "stream",
          "name": "stderr",
          "text": [
            "No loss specified in compile() - the model's internal loss computation will be used as the loss. Don't panic - this is a common way to train TensorFlow models in Transformers! To disable this behaviour please pass a loss argument, or explicitly pass `loss=None` if you do not want your model to compute a loss.\n"
          ]
        }
      ]
    },
    {
      "cell_type": "code",
      "source": [
        "history_2 = model.fit(tf_train_dataset, epochs=num_train_epochs, validation_data=tf_eval_dataset,  validation_steps=1)"
      ],
      "metadata": {
        "id": "Jkf6iG4vc4Gd",
        "colab": {
          "base_uri": "https://localhost:8080/"
        },
        "outputId": "3c31e695-8f7c-4463-8605-b72f20660af8"
      },
      "execution_count": 42,
      "outputs": [
        {
          "output_type": "stream",
          "name": "stdout",
          "text": [
            "Epoch 1/20\n",
            "3653/3653 [==============================] - 214s 56ms/step - loss: 0.8787 - end_logits_accuracy: 0.7546 - start_logits_accuracy: 0.7379 - val_loss: 0.0000e+00 - val_end_logits_accuracy: 0.0000e+00 - val_start_logits_accuracy: 0.0000e+00\n",
            "Epoch 2/20\n",
            "3653/3653 [==============================] - 200s 55ms/step - loss: 0.6408 - end_logits_accuracy: 0.8080 - start_logits_accuracy: 0.8027 - val_loss: 0.0000e+00 - val_end_logits_accuracy: 0.0000e+00 - val_start_logits_accuracy: 0.0000e+00\n",
            "Epoch 3/20\n",
            "3653/3653 [==============================] - 200s 55ms/step - loss: 0.4691 - end_logits_accuracy: 0.8536 - start_logits_accuracy: 0.8464 - val_loss: 0.0000e+00 - val_end_logits_accuracy: 0.0000e+00 - val_start_logits_accuracy: 0.0000e+00\n",
            "Epoch 4/20\n",
            "3653/3653 [==============================] - 201s 55ms/step - loss: 0.3880 - end_logits_accuracy: 0.8726 - start_logits_accuracy: 0.8765 - val_loss: 0.0000e+00 - val_end_logits_accuracy: 0.0000e+00 - val_start_logits_accuracy: 0.0000e+00\n",
            "Epoch 5/20\n",
            "3653/3653 [==============================] - 200s 55ms/step - loss: 0.2708 - end_logits_accuracy: 0.9058 - start_logits_accuracy: 0.9145 - val_loss: 0.0000e+00 - val_end_logits_accuracy: 0.0000e+00 - val_start_logits_accuracy: 0.0000e+00\n",
            "Epoch 6/20\n",
            "3653/3653 [==============================] - 200s 55ms/step - loss: 0.2063 - end_logits_accuracy: 0.9314 - start_logits_accuracy: 0.9323 - val_loss: 0.0000e+00 - val_end_logits_accuracy: 0.0000e+00 - val_start_logits_accuracy: 0.0000e+00\n",
            "Epoch 7/20\n",
            "3653/3653 [==============================] - 201s 55ms/step - loss: 0.1850 - end_logits_accuracy: 0.9351 - start_logits_accuracy: 0.9416 - val_loss: 0.0000e+00 - val_end_logits_accuracy: 0.0000e+00 - val_start_logits_accuracy: 0.0000e+00\n",
            "Epoch 8/20\n",
            "3653/3653 [==============================] - 202s 55ms/step - loss: 0.1373 - end_logits_accuracy: 0.9528 - start_logits_accuracy: 0.9556 - val_loss: 0.0000e+00 - val_end_logits_accuracy: 0.0000e+00 - val_start_logits_accuracy: 0.0000e+00\n",
            "Epoch 9/20\n",
            "3653/3653 [==============================] - 201s 55ms/step - loss: 0.1100 - end_logits_accuracy: 0.9605 - start_logits_accuracy: 0.9641 - val_loss: 0.0000e+00 - val_end_logits_accuracy: 0.0000e+00 - val_start_logits_accuracy: 0.0000e+00\n",
            "Epoch 10/20\n",
            "3653/3653 [==============================] - 200s 55ms/step - loss: 0.0888 - end_logits_accuracy: 0.9682 - start_logits_accuracy: 0.9717 - val_loss: 0.0000e+00 - val_end_logits_accuracy: 0.0000e+00 - val_start_logits_accuracy: 0.0000e+00\n",
            "Epoch 11/20\n",
            "3653/3653 [==============================] - 201s 55ms/step - loss: 0.0759 - end_logits_accuracy: 0.9745 - start_logits_accuracy: 0.9753 - val_loss: 0.0000e+00 - val_end_logits_accuracy: 0.0000e+00 - val_start_logits_accuracy: 0.0000e+00\n",
            "Epoch 12/20\n",
            "3653/3653 [==============================] - 202s 55ms/step - loss: 0.0652 - end_logits_accuracy: 0.9751 - start_logits_accuracy: 0.9797 - val_loss: 0.0000e+00 - val_end_logits_accuracy: 0.0000e+00 - val_start_logits_accuracy: 0.0000e+00\n",
            "Epoch 13/20\n",
            "3653/3653 [==============================] - 201s 55ms/step - loss: 0.0575 - end_logits_accuracy: 0.9786 - start_logits_accuracy: 0.9835 - val_loss: 0.0000e+00 - val_end_logits_accuracy: 0.0000e+00 - val_start_logits_accuracy: 0.0000e+00\n",
            "Epoch 14/20\n",
            "3653/3653 [==============================] - 201s 55ms/step - loss: 0.0440 - end_logits_accuracy: 0.9845 - start_logits_accuracy: 0.9868 - val_loss: 0.0000e+00 - val_end_logits_accuracy: 0.0000e+00 - val_start_logits_accuracy: 0.0000e+00\n",
            "Epoch 15/20\n",
            "3653/3653 [==============================] - 202s 55ms/step - loss: 0.0420 - end_logits_accuracy: 0.9843 - start_logits_accuracy: 0.9873 - val_loss: 0.0000e+00 - val_end_logits_accuracy: 0.0000e+00 - val_start_logits_accuracy: 0.0000e+00\n",
            "Epoch 16/20\n",
            "3653/3653 [==============================] - 202s 55ms/step - loss: 0.0339 - end_logits_accuracy: 0.9871 - start_logits_accuracy: 0.9901 - val_loss: 0.0000e+00 - val_end_logits_accuracy: 0.0000e+00 - val_start_logits_accuracy: 0.0000e+00\n",
            "Epoch 17/20\n",
            "3653/3653 [==============================] - 203s 55ms/step - loss: 0.0280 - end_logits_accuracy: 0.9905 - start_logits_accuracy: 0.9912 - val_loss: 0.0000e+00 - val_end_logits_accuracy: 0.0000e+00 - val_start_logits_accuracy: 0.0000e+00\n",
            "Epoch 18/20\n",
            "3653/3653 [==============================] - 202s 55ms/step - loss: 0.0263 - end_logits_accuracy: 0.9907 - start_logits_accuracy: 0.9926 - val_loss: 0.0000e+00 - val_end_logits_accuracy: 0.0000e+00 - val_start_logits_accuracy: 0.0000e+00\n",
            "Epoch 19/20\n",
            "3653/3653 [==============================] - 202s 55ms/step - loss: 0.0236 - end_logits_accuracy: 0.9917 - start_logits_accuracy: 0.9925 - val_loss: 0.0000e+00 - val_end_logits_accuracy: 0.0000e+00 - val_start_logits_accuracy: 0.0000e+00\n",
            "Epoch 20/20\n",
            "3653/3653 [==============================] - 201s 55ms/step - loss: 0.0206 - end_logits_accuracy: 0.9918 - start_logits_accuracy: 0.9946 - val_loss: 0.0000e+00 - val_end_logits_accuracy: 0.0000e+00 - val_start_logits_accuracy: 0.0000e+00\n"
          ]
        }
      ]
    },
    {
      "cell_type": "code",
      "source": [
        "model.evaluate(tf_train_dataset)"
      ],
      "metadata": {
        "id": "jUhR5usKsE-0",
        "colab": {
          "base_uri": "https://localhost:8080/"
        },
        "outputId": "b34eed51-01fd-4243-d522-c6116a8bdba0"
      },
      "execution_count": 43,
      "outputs": [
        {
          "output_type": "stream",
          "name": "stdout",
          "text": [
            "3653/3653 [==============================] - 54s 14ms/step - loss: 0.0040 - end_logits_accuracy: 0.9977 - start_logits_accuracy: 0.9993\n"
          ]
        },
        {
          "output_type": "execute_result",
          "data": {
            "text/plain": [
              "[0.0040185353718698025, 0.9977415800094604, 0.999315619468689]"
            ]
          },
          "metadata": {},
          "execution_count": 43
        }
      ]
    },
    {
      "cell_type": "code",
      "source": [
        "predictions = model.predict(tf_eval_dataset)\n",
        "f1_score_2 = compute_metrics(\n",
        "    predictions[\"start_logits\"],\n",
        "    predictions[\"end_logits\"],\n",
        "    validation_dataset,\n",
        "    squad[\"validation\"],\n",
        ")"
      ],
      "metadata": {
        "id": "AYxjKscfsPoT",
        "colab": {
          "base_uri": "https://localhost:8080/",
          "height": 67,
          "referenced_widgets": [
            "ad46be7720834769bfe965b0986e1977",
            "12c5a509fc4a429da54c3a211d48c42f",
            "d62765e5fc944e03a9c4c3baf0eed4e6",
            "be792ed03e6d40b39357f70675870c70",
            "9ceb8403d2c54446a6cc219db52a6187",
            "25b414febbfa444c83329da1b8b32786",
            "4e878a798bbf4e2e87ec93b9a01bf024",
            "1905980677c2408ea9652f68bc3fa779",
            "938243dc07f94819ba47ececb543ca60",
            "cad1558879a74b68bcc75dc92ddd5f2a",
            "59fca02dc3af4b9790ae6bfdb6e7d3c8"
          ]
        },
        "outputId": "2e60ba27-323c-4578-c345-34f4dbf2f75b"
      },
      "execution_count": 44,
      "outputs": [
        {
          "output_type": "stream",
          "name": "stdout",
          "text": [
            "1508/1508 [==============================] - 79s 50ms/step\n"
          ]
        },
        {
          "output_type": "display_data",
          "data": {
            "text/plain": [
              "  0%|          | 0/5928 [00:00<?, ?it/s]"
            ],
            "application/vnd.jupyter.widget-view+json": {
              "version_major": 2,
              "version_minor": 0,
              "model_id": "ad46be7720834769bfe965b0986e1977"
            }
          },
          "metadata": {}
        }
      ]
    },
    {
      "cell_type": "code",
      "source": [
        "model.save_weights('/content/model/model_2', save_format='tf')"
      ],
      "metadata": {
        "id": "4Y6OtBxVsV5C"
      },
      "execution_count": 45,
      "outputs": []
    },
    {
      "cell_type": "code",
      "source": [
        "with open('/content/model/history_2.json','w') as h:\n",
        "  json.dump(history_2.history, h)\n",
        "\n",
        "with open('/content/model/f1_score_2.json','w') as h:\n",
        "  json.dump(f1_score_2, h)\n",
        "\n",
        "\n",
        "with open('/content/model/history_2.json', 'r') as h:\n",
        "  history_2 = json.load(h)\n",
        "\n",
        "\n",
        "with open('/content/model/f1_score_2.json', 'r') as h:\n",
        "  score_2 = json.load(h)\n",
        "\n"
      ],
      "metadata": {
        "id": "c_zAtETNsbri"
      },
      "execution_count": 46,
      "outputs": []
    },
    {
      "cell_type": "code",
      "source": [
        "history_2"
      ],
      "metadata": {
        "id": "rcjhNGU6siJy",
        "colab": {
          "base_uri": "https://localhost:8080/"
        },
        "outputId": "4e127263-9dd9-4048-e364-cf3487e8cbd9"
      },
      "execution_count": 47,
      "outputs": [
        {
          "output_type": "execute_result",
          "data": {
            "text/plain": [
              "{'loss': [0.8787098526954651,\n",
              "  0.6408083438873291,\n",
              "  0.4691465497016907,\n",
              "  0.3880102038383484,\n",
              "  0.27079761028289795,\n",
              "  0.20627634227275848,\n",
              "  0.18501874804496765,\n",
              "  0.1373259723186493,\n",
              "  0.11000113934278488,\n",
              "  0.08878952264785767,\n",
              "  0.07592793554067612,\n",
              "  0.06520234048366547,\n",
              "  0.05754147469997406,\n",
              "  0.043999083340168,\n",
              "  0.041973892599344254,\n",
              "  0.03394949063658714,\n",
              "  0.028046665713191032,\n",
              "  0.026270361617207527,\n",
              "  0.023578468710184097,\n",
              "  0.02057022601366043],\n",
              " 'end_logits_accuracy': [0.7545852661132812,\n",
              "  0.8079660534858704,\n",
              "  0.8536134958267212,\n",
              "  0.8725705146789551,\n",
              "  0.9058308005332947,\n",
              "  0.9313578009605408,\n",
              "  0.9351218342781067,\n",
              "  0.9527785181999207,\n",
              "  0.9605119228363037,\n",
              "  0.968245267868042,\n",
              "  0.9744730591773987,\n",
              "  0.9750889539718628,\n",
              "  0.9786477088928223,\n",
              "  0.9845332503318787,\n",
              "  0.9843279719352722,\n",
              "  0.9871338605880737,\n",
              "  0.990487277507782,\n",
              "  0.9906925559043884,\n",
              "  0.991719126701355,\n",
              "  0.9917875528335571],\n",
              " 'start_logits_accuracy': [0.7378866672515869,\n",
              "  0.8026964068412781,\n",
              "  0.846359133720398,\n",
              "  0.8765398263931274,\n",
              "  0.9145222902297974,\n",
              "  0.9323158860206604,\n",
              "  0.941623330116272,\n",
              "  0.9555844664573669,\n",
              "  0.9641390442848206,\n",
              "  0.9717355370521545,\n",
              "  0.975294291973114,\n",
              "  0.979674220085144,\n",
              "  0.9835066795349121,\n",
              "  0.9867916703224182,\n",
              "  0.987339198589325,\n",
              "  0.9901450872421265,\n",
              "  0.991171658039093,\n",
              "  0.9926087856292725,\n",
              "  0.9925403594970703,\n",
              "  0.9945935010910034],\n",
              " 'val_loss': [0.0,\n",
              "  0.0,\n",
              "  0.0,\n",
              "  0.0,\n",
              "  0.0,\n",
              "  0.0,\n",
              "  0.0,\n",
              "  0.0,\n",
              "  0.0,\n",
              "  0.0,\n",
              "  0.0,\n",
              "  0.0,\n",
              "  0.0,\n",
              "  0.0,\n",
              "  0.0,\n",
              "  0.0,\n",
              "  0.0,\n",
              "  0.0,\n",
              "  0.0,\n",
              "  0.0],\n",
              " 'val_end_logits_accuracy': [0.0,\n",
              "  0.0,\n",
              "  0.0,\n",
              "  0.0,\n",
              "  0.0,\n",
              "  0.0,\n",
              "  0.0,\n",
              "  0.0,\n",
              "  0.0,\n",
              "  0.0,\n",
              "  0.0,\n",
              "  0.0,\n",
              "  0.0,\n",
              "  0.0,\n",
              "  0.0,\n",
              "  0.0,\n",
              "  0.0,\n",
              "  0.0,\n",
              "  0.0,\n",
              "  0.0],\n",
              " 'val_start_logits_accuracy': [0.0,\n",
              "  0.0,\n",
              "  0.0,\n",
              "  0.0,\n",
              "  0.0,\n",
              "  0.0,\n",
              "  0.0,\n",
              "  0.0,\n",
              "  0.0,\n",
              "  0.0,\n",
              "  0.0,\n",
              "  0.0,\n",
              "  0.0,\n",
              "  0.0,\n",
              "  0.0,\n",
              "  0.0,\n",
              "  0.0,\n",
              "  0.0,\n",
              "  0.0,\n",
              "  0.0]}"
            ]
          },
          "metadata": {},
          "execution_count": 47
        }
      ]
    },
    {
      "cell_type": "code",
      "source": [
        "score_2"
      ],
      "metadata": {
        "colab": {
          "base_uri": "https://localhost:8080/"
        },
        "id": "xswgQfa1W_7W",
        "outputId": "d88d1f51-4451-438b-fd2b-5a76b5c00429"
      },
      "execution_count": 48,
      "outputs": [
        {
          "output_type": "execute_result",
          "data": {
            "text/plain": [
              "{'exact_match': 59.008097165991906, 'f1': 75.36730678963954}"
            ]
          },
          "metadata": {},
          "execution_count": 48
        }
      ]
    },
    {
      "cell_type": "code",
      "source": [
        "from matplotlib import pyplot\n",
        "\n",
        "pyplot.title('Loss')\n",
        "pyplot.plot(history['loss'], label='Train')\n",
        "pyplot.xlabel(\"epoch\")\n",
        "pyplot.ylabel(\"loss\")\n",
        "pyplot.text(15, 0.1, \"f1_score: \"+str(int(score_2['f1']))+\"%\")\n",
        "pyplot.legend()\n",
        "pyplot.show()"
      ],
      "metadata": {
        "id": "fimrC3axsk-F",
        "colab": {
          "base_uri": "https://localhost:8080/",
          "height": 295
        },
        "outputId": "672f6c45-34b6-46ba-a46d-59bdc83307eb"
      },
      "execution_count": 81,
      "outputs": [
        {
          "output_type": "display_data",
          "data": {
            "text/plain": [
              "<Figure size 432x288 with 1 Axes>"
            ],
            "image/png": "[encoded data removed]"
          },
          "metadata": {
            "needs_background": "light"
          }
        }
      ]
    },
    {
      "cell_type": "code",
      "source": [
        "pyplot.title('Logits accuracy')\n",
        "pyplot.xlabel(\"epoch\")\n",
        "pyplot.ylabel(\"logits accuracy\")\n",
        "pyplot.plot(history['start_logits_accuracy'], label='start_logits_accuracy')\n",
        "pyplot.plot(history['end_logits_accuracy'], label='end_logits_accuracy')\n",
        "pyplot.legend()\n",
        "pyplot.show()"
      ],
      "metadata": {
        "id": "yPiAIqP_snJf",
        "colab": {
          "base_uri": "https://localhost:8080/",
          "height": 295
        },
        "outputId": "1249ede2-b74f-4d58-bc64-536549609982"
      },
      "execution_count": 82,
      "outputs": [
        {
          "output_type": "display_data",
          "data": {
            "text/plain": [
              "<Figure size 432x288 with 1 Axes>"
            ],
            "image/png": "[encoded data removed]"
          },
          "metadata": {
            "needs_background": "light"
          }
        }
      ]
    },
    {
      "cell_type": "code",
      "source": [
        "from transformers import pipeline\n",
        "\n",
        "qa_pipeline = pipeline(\n",
        "    \"question-answering\",\n",
        "    model=model,\n",
        "    tokenizer=tokenizer\n",
        ")\n",
        "qa_pipeline({\n",
        "    'context': \"\"\"Sudah sejak tahun 1920-an, Ubud terkenal di antara wisatawan barat. Kala itu pelukis Jerman; Walter Spies dan pelukis Belanda; Rudolf Bonnet menetap di sana. Mereka dibantu oleh Tjokorda Gde Agung Sukawati, dari Puri Agung Ubud. Sekarang karya mereka bisa dilihat di Museum Puri Lukisan, Ubud.\"\"\",\n",
        "    'question': \"Sejak kapan Ubud terkenal di antara wisatawan barat?\"\n",
        "})"
      ],
      "metadata": {
        "colab": {
          "base_uri": "https://localhost:8080/"
        },
        "id": "GfXsGw4XpGSL",
        "outputId": "c58a763b-614e-4b96-a4b0-c819039d8187"
      },
      "execution_count": 51,
      "outputs": [
        {
          "output_type": "execute_result",
          "data": {
            "text/plain": [
              "{'score': 0.9948574304580688, 'start': 18, 'end': 25, 'answer': '1920-an'}"
            ]
          },
          "metadata": {},
          "execution_count": 51
        }
      ]
    },
    {
      "cell_type": "code",
      "source": [
        "from google.colab import files"
      ],
      "metadata": {
        "id": "GsJdrClMq3w1"
      },
      "execution_count": null,
      "outputs": []
    },
    {
      "cell_type": "code",
      "source": [
        "!zip -r /content/model.zip /content/model"
      ],
      "metadata": {
        "colab": {
          "base_uri": "https://localhost:8080/"
        },
        "id": "cm0rt4bGseVX",
        "outputId": "2c1337ac-0513-43dd-c06d-5e901104deab"
      },
      "execution_count": 73,
      "outputs": [
        {
          "output_type": "stream",
          "name": "stdout",
          "text": [
            "  adding: content/model/ (stored 0%)\n",
            "  adding: content/model/model_2.data-00000-of-00001 (deflated 15%)\n",
            "  adding: content/model/checkpoint (deflated 41%)\n",
            "  adding: content/model/history_2.json (deflated 60%)\n",
            "  adding: content/model/f1_score_2.json (stored 0%)\n",
            "  adding: content/model/model.data-00000-of-00001 (deflated 15%)\n",
            "  adding: content/model/model.index (deflated 82%)\n",
            "  adding: content/model/history.json (deflated 60%)\n",
            "  adding: content/model/model_2.index (deflated 82%)\n",
            "  adding: content/model/f1_score.json (deflated 2%)\n"
          ]
        }
      ]
    },
    {
      "cell_type": "code",
      "source": [
        "\n",
        "files.download('/content/model/model.data-00000-of-00001')\n",
        "\n",
        "files.download('/content/model/model_2.data-00000-of-00001')\n"
      ],
      "metadata": {
        "colab": {
          "base_uri": "https://localhost:8080/",
          "height": 52
        },
        "id": "zLdkRRxv-KwH",
        "outputId": "b0da6f4c-51a3-4808-a4d1-6542fa289e0f"
      },
      "execution_count": 90,
      "outputs": [
        {
          "output_type": "display_data",
          "data": {
            "text/plain": [
              "<IPython.core.display.Javascript object>"
            ],
            "application/javascript": [
              "\n",
              "    async function download(id, filename, size) {\n",
              "      if (!google.colab.kernel.accessAllowed) {\n",
              "        return;\n",
              "      }\n",
              "      const div = document.createElement('div');\n",
              "      const label = document.createElement('label');\n",
              "      label.textContent = `Downloading \"${filename}\": `;\n",
              "      div.appendChild(label);\n",
              "      const progress = document.createElement('progress');\n",
              "      progress.max = size;\n",
              "      div.appendChild(progress);\n",
              "      document.body.appendChild(div);\n",
              "\n",
              "      const buffers = [];\n",
              "      let downloaded = 0;\n",
              "\n",
              "      const channel = await google.colab.kernel.comms.open(id);\n",
              "      // Send a message to notify the kernel that we're ready.\n",
              "      channel.send({})\n",
              "\n",
              "      for await (const message of channel.messages) {\n",
              "        // Send a message to notify the kernel that we're ready.\n",
              "        channel.send({})\n",
              "        if (message.buffers) {\n",
              "          for (const buffer of message.buffers) {\n",
              "            buffers.push(buffer);\n",
              "            downloaded += buffer.byteLength;\n",
              "            progress.value = downloaded;\n",
              "          }\n",
              "        }\n",
              "      }\n",
              "      const blob = new Blob(buffers, {type: 'application/binary'});\n",
              "      const a = document.createElement('a');\n",
              "      a.href = window.URL.createObjectURL(blob);\n",
              "      a.download = filename;\n",
              "      div.appendChild(a);\n",
              "      a.click();\n",
              "      div.remove();\n",
              "    }\n",
              "  "
            ]
          },
          "metadata": {}
        },
        {
          "output_type": "display_data",
          "data": {
            "text/plain": [
              "<IPython.core.display.Javascript object>"
            ],
            "application/javascript": [
              "download(\"download_39176573-fa8f-46d7-91e3-dd3afbceb801\", \"model.data-00000-of-00001\", 1319772881)"
            ]
          },
          "metadata": {}
        },
        {
          "output_type": "display_data",
          "data": {
            "text/plain": [
              "<IPython.core.display.Javascript object>"
            ],
            "application/javascript": [
              "\n",
              "    async function download(id, filename, size) {\n",
              "      if (!google.colab.kernel.accessAllowed) {\n",
              "        return;\n",
              "      }\n",
              "      const div = document.createElement('div');\n",
              "      const label = document.createElement('label');\n",
              "      label.textContent = `Downloading \"${filename}\": `;\n",
              "      div.appendChild(label);\n",
              "      const progress = document.createElement('progress');\n",
              "      progress.max = size;\n",
              "      div.appendChild(progress);\n",
              "      document.body.appendChild(div);\n",
              "\n",
              "      const buffers = [];\n",
              "      let downloaded = 0;\n",
              "\n",
              "      const channel = await google.colab.kernel.comms.open(id);\n",
              "      // Send a message to notify the kernel that we're ready.\n",
              "      channel.send({})\n",
              "\n",
              "      for await (const message of channel.messages) {\n",
              "        // Send a message to notify the kernel that we're ready.\n",
              "        channel.send({})\n",
              "        if (message.buffers) {\n",
              "          for (const buffer of message.buffers) {\n",
              "            buffers.push(buffer);\n",
              "            downloaded += buffer.byteLength;\n",
              "            progress.value = downloaded;\n",
              "          }\n",
              "        }\n",
              "      }\n",
              "      const blob = new Blob(buffers, {type: 'application/binary'});\n",
              "      const a = document.createElement('a');\n",
              "      a.href = window.URL.createObjectURL(blob);\n",
              "      a.download = filename;\n",
              "      div.appendChild(a);\n",
              "      a.click();\n",
              "      div.remove();\n",
              "    }\n",
              "  "
            ]
          },
          "metadata": {}
        },
        {
          "output_type": "display_data",
          "data": {
            "text/plain": [
              "<IPython.core.display.Javascript object>"
            ],
            "application/javascript": [
              "download(\"download_1b7e9ae0-be40-4239-8c3b-00598cadfc58\", \"model_2.data-00000-of-00001\", 1319772881)"
            ]
          },
          "metadata": {}
        }
      ]
    },
    {
      "cell_type": "code",
      "source": [
        "from transformers import AutoTokenizer, TFAutoModelForQuestionAnswering, pipeline\n",
        "\n",
        "tokenizer = AutoTokenizer.from_pretrained(\"esakrissa/IndoBERT-SQuAD\")\n",
        "\n",
        "model = TFAutoModelForQuestionAnswering.from_pretrained(\"esakrissa/IndoBERT-SQuAD\", from_pt=True)\n",
        "model.compile(optimizer=optimizer, metrics=['accuracy'])\n",
        "model.load_weights('/content/model/model_2')\n"
      ],
      "metadata": {
        "id": "r-742iZgoOJG"
      },
      "execution_count": null,
      "outputs": []
    }
  ],
  "metadata": {
    "accelerator": "GPU",
    "colab": {
      "provenance": [],
      "machine_shape": "hm"
    },
    "gpuClass": "premium",
    "kernelspec": {
      "display_name": "Python 3 (ipykernel)",
      "language": "python",
      "name": "python3"
    },
    "language_info": {
      "codemirror_mode": {
        "name": "ipython",
        "version": 3
      },
      "file_extension": ".py",
      "mimetype": "text/x-python",
      "name": "python",
      "nbconvert_exporter": "python",
      "pygments_lexer": "ipython3",
      "version": "3.9.13"
    },
    "widgets": {
      "application/vnd.jupyter.widget-state+json": {
        "6de91e7f86c447ed8aa2f60a205f13c4": {
          "model_module": "@jupyter-widgets/controls",
          "model_name": "HBoxModel",
          "model_module_version": "1.5.0",
          "state": {
            "_dom_classes": [],
            "_model_module": "@jupyter-widgets/controls",
            "_model_module_version": "1.5.0",
            "_model_name": "HBoxModel",
            "_view_count": null,
            "_view_module": "@jupyter-widgets/controls",
            "_view_module_version": "1.5.0",
            "_view_name": "HBoxView",
            "box_style": "",
            "children": [
              "IPY_MODEL_41c1b6f3604c44f4800af5f6cb6c8af4",
              "IPY_MODEL_37b1ca5a10a34e3a93a5c42cea0304a1",
              "IPY_MODEL_6c5a6c444b3a49979ea6a3f4c9d49bdb"
            ],
            "layout": "IPY_MODEL_acf7171e6b114a668702d5c5d805e43f"
          }
        },
        "41c1b6f3604c44f4800af5f6cb6c8af4": {
          "model_module": "@jupyter-widgets/controls",
          "model_name": "HTMLModel",
          "model_module_version": "1.5.0",
          "state": {
            "_dom_classes": [],
            "_model_module": "@jupyter-widgets/controls",
            "_model_module_version": "1.5.0",
            "_model_name": "HTMLModel",
            "_view_count": null,
            "_view_module": "@jupyter-widgets/controls",
            "_view_module_version": "1.5.0",
            "_view_name": "HTMLView",
            "description": "",
            "description_tooltip": null,
            "layout": "IPY_MODEL_b44f8027c5fa4d1fb8bd4a7da6ff7b32",
            "placeholder": "​",
            "style": "IPY_MODEL_89d186e7270f4bd8a467a50d2d737398",
            "value": "100%"
          }
        },
        "37b1ca5a10a34e3a93a5c42cea0304a1": {
          "model_module": "@jupyter-widgets/controls",
          "model_name": "FloatProgressModel",
          "model_module_version": "1.5.0",
          "state": {
            "_dom_classes": [],
            "_model_module": "@jupyter-widgets/controls",
            "_model_module_version": "1.5.0",
            "_model_name": "FloatProgressModel",
            "_view_count": null,
            "_view_module": "@jupyter-widgets/controls",
            "_view_module_version": "1.5.0",
            "_view_name": "ProgressView",
            "bar_style": "success",
            "description": "",
            "description_tooltip": null,
            "layout": "IPY_MODEL_36aa47057722483aa9415e74e8e1c2a4",
            "max": 2,
            "min": 0,
            "orientation": "horizontal",
            "style": "IPY_MODEL_0722ea80a7cc4aa5a8b6af3659defadc",
            "value": 2
          }
        },
        "6c5a6c444b3a49979ea6a3f4c9d49bdb": {
          "model_module": "@jupyter-widgets/controls",
          "model_name": "HTMLModel",
          "model_module_version": "1.5.0",
          "state": {
            "_dom_classes": [],
            "_model_module": "@jupyter-widgets/controls",
            "_model_module_version": "1.5.0",
            "_model_name": "HTMLModel",
            "_view_count": null,
            "_view_module": "@jupyter-widgets/controls",
            "_view_module_version": "1.5.0",
            "_view_name": "HTMLView",
            "description": "",
            "description_tooltip": null,
            "layout": "IPY_MODEL_4a767d8b9900424f924a27e699d57263",
            "placeholder": "​",
            "style": "IPY_MODEL_442cfde7479e43389fcbde8843958687",
            "value": " 2/2 [00:00&lt;00:00, 88.40it/s]"
          }
        },
        "acf7171e6b114a668702d5c5d805e43f": {
          "model_module": "@jupyter-widgets/base",
          "model_name": "LayoutModel",
          "model_module_version": "1.2.0",
          "state": {
            "_model_module": "@jupyter-widgets/base",
            "_model_module_version": "1.2.0",
            "_model_name": "LayoutModel",
            "_view_count": null,
            "_view_module": "@jupyter-widgets/base",
            "_view_module_version": "1.2.0",
            "_view_name": "LayoutView",
            "align_content": null,
            "align_items": null,
            "align_self": null,
            "border": null,
            "bottom": null,
            "display": null,
            "flex": null,
            "flex_flow": null,
            "grid_area": null,
            "grid_auto_columns": null,
            "grid_auto_flow": null,
            "grid_auto_rows": null,
            "grid_column": null,
            "grid_gap": null,
            "grid_row": null,
            "grid_template_areas": null,
            "grid_template_columns": null,
            "grid_template_rows": null,
            "height": null,
            "justify_content": null,
            "justify_items": null,
            "left": null,
            "margin": null,
            "max_height": null,
            "max_width": null,
            "min_height": null,
            "min_width": null,
            "object_fit": null,
            "object_position": null,
            "order": null,
            "overflow": null,
            "overflow_x": null,
            "overflow_y": null,
            "padding": null,
            "right": null,
            "top": null,
            "visibility": null,
            "width": null
          }
        },
        "b44f8027c5fa4d1fb8bd4a7da6ff7b32": {
          "model_module": "@jupyter-widgets/base",
          "model_name": "LayoutModel",
          "model_module_version": "1.2.0",
          "state": {
            "_model_module": "@jupyter-widgets/base",
            "_model_module_version": "1.2.0",
            "_model_name": "LayoutModel",
            "_view_count": null,
            "_view_module": "@jupyter-widgets/base",
            "_view_module_version": "1.2.0",
            "_view_name": "LayoutView",
            "align_content": null,
            "align_items": null,
            "align_self": null,
            "border": null,
            "bottom": null,
            "display": null,
            "flex": null,
            "flex_flow": null,
            "grid_area": null,
            "grid_auto_columns": null,
            "grid_auto_flow": null,
            "grid_auto_rows": null,
            "grid_column": null,
            "grid_gap": null,
            "grid_row": null,
            "grid_template_areas": null,
            "grid_template_columns": null,
            "grid_template_rows": null,
            "height": null,
            "justify_content": null,
            "justify_items": null,
            "left": null,
            "margin": null,
            "max_height": null,
            "max_width": null,
            "min_height": null,
            "min_width": null,
            "object_fit": null,
            "object_position": null,
            "order": null,
            "overflow": null,
            "overflow_x": null,
            "overflow_y": null,
            "padding": null,
            "right": null,
            "top": null,
            "visibility": null,
            "width": null
          }
        },
        "89d186e7270f4bd8a467a50d2d737398": {
          "model_module": "@jupyter-widgets/controls",
          "model_name": "DescriptionStyleModel",
          "model_module_version": "1.5.0",
          "state": {
            "_model_module": "@jupyter-widgets/controls",
            "_model_module_version": "1.5.0",
            "_model_name": "DescriptionStyleModel",
            "_view_count": null,
            "_view_module": "@jupyter-widgets/base",
            "_view_module_version": "1.2.0",
            "_view_name": "StyleView",
            "description_width": ""
          }
        },
        "36aa47057722483aa9415e74e8e1c2a4": {
          "model_module": "@jupyter-widgets/base",
          "model_name": "LayoutModel",
          "model_module_version": "1.2.0",
          "state": {
            "_model_module": "@jupyter-widgets/base",
            "_model_module_version": "1.2.0",
            "_model_name": "LayoutModel",
            "_view_count": null,
            "_view_module": "@jupyter-widgets/base",
            "_view_module_version": "1.2.0",
            "_view_name": "LayoutView",
            "align_content": null,
            "align_items": null,
            "align_self": null,
            "border": null,
            "bottom": null,
            "display": null,
            "flex": null,
            "flex_flow": null,
            "grid_area": null,
            "grid_auto_columns": null,
            "grid_auto_flow": null,
            "grid_auto_rows": null,
            "grid_column": null,
            "grid_gap": null,
            "grid_row": null,
            "grid_template_areas": null,
            "grid_template_columns": null,
            "grid_template_rows": null,
            "height": null,
            "justify_content": null,
            "justify_items": null,
            "left": null,
            "margin": null,
            "max_height": null,
            "max_width": null,
            "min_height": null,
            "min_width": null,
            "object_fit": null,
            "object_position": null,
            "order": null,
            "overflow": null,
            "overflow_x": null,
            "overflow_y": null,
            "padding": null,
            "right": null,
            "top": null,
            "visibility": null,
            "width": null
          }
        },
        "0722ea80a7cc4aa5a8b6af3659defadc": {
          "model_module": "@jupyter-widgets/controls",
          "model_name": "ProgressStyleModel",
          "model_module_version": "1.5.0",
          "state": {
            "_model_module": "@jupyter-widgets/controls",
            "_model_module_version": "1.5.0",
            "_model_name": "ProgressStyleModel",
            "_view_count": null,
            "_view_module": "@jupyter-widgets/base",
            "_view_module_version": "1.2.0",
            "_view_name": "StyleView",
            "bar_color": null,
            "description_width": ""
          }
        },
        "4a767d8b9900424f924a27e699d57263": {
          "model_module": "@jupyter-widgets/base",
          "model_name": "LayoutModel",
          "model_module_version": "1.2.0",
          "state": {
            "_model_module": "@jupyter-widgets/base",
            "_model_module_version": "1.2.0",
            "_model_name": "LayoutModel",
            "_view_count": null,
            "_view_module": "@jupyter-widgets/base",
            "_view_module_version": "1.2.0",
            "_view_name": "LayoutView",
            "align_content": null,
            "align_items": null,
            "align_self": null,
            "border": null,
            "bottom": null,
            "display": null,
            "flex": null,
            "flex_flow": null,
            "grid_area": null,
            "grid_auto_columns": null,
            "grid_auto_flow": null,
            "grid_auto_rows": null,
            "grid_column": null,
            "grid_gap": null,
            "grid_row": null,
            "grid_template_areas": null,
            "grid_template_columns": null,
            "grid_template_rows": null,
            "height": null,
            "justify_content": null,
            "justify_items": null,
            "left": null,
            "margin": null,
            "max_height": null,
            "max_width": null,
            "min_height": null,
            "min_width": null,
            "object_fit": null,
            "object_position": null,
            "order": null,
            "overflow": null,
            "overflow_x": null,
            "overflow_y": null,
            "padding": null,
            "right": null,
            "top": null,
            "visibility": null,
            "width": null
          }
        },
        "442cfde7479e43389fcbde8843958687": {
          "model_module": "@jupyter-widgets/controls",
          "model_name": "DescriptionStyleModel",
          "model_module_version": "1.5.0",
          "state": {
            "_model_module": "@jupyter-widgets/controls",
            "_model_module_version": "1.5.0",
            "_model_name": "DescriptionStyleModel",
            "_view_count": null,
            "_view_module": "@jupyter-widgets/base",
            "_view_module_version": "1.2.0",
            "_view_name": "StyleView",
            "description_width": ""
          }
        },
        "07d20cc3f135408bac5d85f3e36ccee7": {
          "model_module": "@jupyter-widgets/controls",
          "model_name": "HBoxModel",
          "model_module_version": "1.5.0",
          "state": {
            "_dom_classes": [],
            "_model_module": "@jupyter-widgets/controls",
            "_model_module_version": "1.5.0",
            "_model_name": "HBoxModel",
            "_view_count": null,
            "_view_module": "@jupyter-widgets/controls",
            "_view_module_version": "1.5.0",
            "_view_name": "HBoxView",
            "box_style": "",
            "children": [
              "IPY_MODEL_3ed46dda60204adba2e993e81482b643",
              "IPY_MODEL_ed616d12fdeb48d3b3655ac280bc52d5",
              "IPY_MODEL_2e795938af7842b9aab8d5aa23df2e22"
            ],
            "layout": "IPY_MODEL_2c94dccc6e9d40cea94ac9f9d8eb606e"
          }
        },
        "3ed46dda60204adba2e993e81482b643": {
          "model_module": "@jupyter-widgets/controls",
          "model_name": "HTMLModel",
          "model_module_version": "1.5.0",
          "state": {
            "_dom_classes": [],
            "_model_module": "@jupyter-widgets/controls",
            "_model_module_version": "1.5.0",
            "_model_name": "HTMLModel",
            "_view_count": null,
            "_view_module": "@jupyter-widgets/controls",
            "_view_module_version": "1.5.0",
            "_view_name": "HTMLView",
            "description": "",
            "description_tooltip": null,
            "layout": "IPY_MODEL_724eb70a1a56405480e870742131f760",
            "placeholder": "​",
            "style": "IPY_MODEL_39a88c2ac1884cffa69a2a8a4870ce45",
            "value": "100%"
          }
        },
        "ed616d12fdeb48d3b3655ac280bc52d5": {
          "model_module": "@jupyter-widgets/controls",
          "model_name": "FloatProgressModel",
          "model_module_version": "1.5.0",
          "state": {
            "_dom_classes": [],
            "_model_module": "@jupyter-widgets/controls",
            "_model_module_version": "1.5.0",
            "_model_name": "FloatProgressModel",
            "_view_count": null,
            "_view_module": "@jupyter-widgets/controls",
            "_view_module_version": "1.5.0",
            "_view_name": "ProgressView",
            "bar_style": "success",
            "description": "",
            "description_tooltip": null,
            "layout": "IPY_MODEL_597add91da264d6bbe4f8ca1f5fb8c57",
            "max": 15,
            "min": 0,
            "orientation": "horizontal",
            "style": "IPY_MODEL_e91e6021bae94d43b8d68e1893e4ffdd",
            "value": 15
          }
        },
        "2e795938af7842b9aab8d5aa23df2e22": {
          "model_module": "@jupyter-widgets/controls",
          "model_name": "HTMLModel",
          "model_module_version": "1.5.0",
          "state": {
            "_dom_classes": [],
            "_model_module": "@jupyter-widgets/controls",
            "_model_module_version": "1.5.0",
            "_model_name": "HTMLModel",
            "_view_count": null,
            "_view_module": "@jupyter-widgets/controls",
            "_view_module_version": "1.5.0",
            "_view_name": "HTMLView",
            "description": "",
            "description_tooltip": null,
            "layout": "IPY_MODEL_6a135803b2cb49ee85ff2ac8d4cdecfd",
            "placeholder": "​",
            "style": "IPY_MODEL_877efff51d0a4115a2093fe207a5c6b7",
            "value": " 15/15 [00:04&lt;00:00,  3.77ba/s]"
          }
        },
        "2c94dccc6e9d40cea94ac9f9d8eb606e": {
          "model_module": "@jupyter-widgets/base",
          "model_name": "LayoutModel",
          "model_module_version": "1.2.0",
          "state": {
            "_model_module": "@jupyter-widgets/base",
            "_model_module_version": "1.2.0",
            "_model_name": "LayoutModel",
            "_view_count": null,
            "_view_module": "@jupyter-widgets/base",
            "_view_module_version": "1.2.0",
            "_view_name": "LayoutView",
            "align_content": null,
            "align_items": null,
            "align_self": null,
            "border": null,
            "bottom": null,
            "display": null,
            "flex": null,
            "flex_flow": null,
            "grid_area": null,
            "grid_auto_columns": null,
            "grid_auto_flow": null,
            "grid_auto_rows": null,
            "grid_column": null,
            "grid_gap": null,
            "grid_row": null,
            "grid_template_areas": null,
            "grid_template_columns": null,
            "grid_template_rows": null,
            "height": null,
            "justify_content": null,
            "justify_items": null,
            "left": null,
            "margin": null,
            "max_height": null,
            "max_width": null,
            "min_height": null,
            "min_width": null,
            "object_fit": null,
            "object_position": null,
            "order": null,
            "overflow": null,
            "overflow_x": null,
            "overflow_y": null,
            "padding": null,
            "right": null,
            "top": null,
            "visibility": null,
            "width": null
          }
        },
        "724eb70a1a56405480e870742131f760": {
          "model_module": "@jupyter-widgets/base",
          "model_name": "LayoutModel",
          "model_module_version": "1.2.0",
          "state": {
            "_model_module": "@jupyter-widgets/base",
            "_model_module_version": "1.2.0",
            "_model_name": "LayoutModel",
            "_view_count": null,
            "_view_module": "@jupyter-widgets/base",
            "_view_module_version": "1.2.0",
            "_view_name": "LayoutView",
            "align_content": null,
            "align_items": null,
            "align_self": null,
            "border": null,
            "bottom": null,
            "display": null,
            "flex": null,
            "flex_flow": null,
            "grid_area": null,
            "grid_auto_columns": null,
            "grid_auto_flow": null,
            "grid_auto_rows": null,
            "grid_column": null,
            "grid_gap": null,
            "grid_row": null,
            "grid_template_areas": null,
            "grid_template_columns": null,
            "grid_template_rows": null,
            "height": null,
            "justify_content": null,
            "justify_items": null,
            "left": null,
            "margin": null,
            "max_height": null,
            "max_width": null,
            "min_height": null,
            "min_width": null,
            "object_fit": null,
            "object_position": null,
            "order": null,
            "overflow": null,
            "overflow_x": null,
            "overflow_y": null,
            "padding": null,
            "right": null,
            "top": null,
            "visibility": null,
            "width": null
          }
        },
        "39a88c2ac1884cffa69a2a8a4870ce45": {
          "model_module": "@jupyter-widgets/controls",
          "model_name": "DescriptionStyleModel",
          "model_module_version": "1.5.0",
          "state": {
            "_model_module": "@jupyter-widgets/controls",
            "_model_module_version": "1.5.0",
            "_model_name": "DescriptionStyleModel",
            "_view_count": null,
            "_view_module": "@jupyter-widgets/base",
            "_view_module_version": "1.2.0",
            "_view_name": "StyleView",
            "description_width": ""
          }
        },
        "597add91da264d6bbe4f8ca1f5fb8c57": {
          "model_module": "@jupyter-widgets/base",
          "model_name": "LayoutModel",
          "model_module_version": "1.2.0",
          "state": {
            "_model_module": "@jupyter-widgets/base",
            "_model_module_version": "1.2.0",
            "_model_name": "LayoutModel",
            "_view_count": null,
            "_view_module": "@jupyter-widgets/base",
            "_view_module_version": "1.2.0",
            "_view_name": "LayoutView",
            "align_content": null,
            "align_items": null,
            "align_self": null,
            "border": null,
            "bottom": null,
            "display": null,
            "flex": null,
            "flex_flow": null,
            "grid_area": null,
            "grid_auto_columns": null,
            "grid_auto_flow": null,
            "grid_auto_rows": null,
            "grid_column": null,
            "grid_gap": null,
            "grid_row": null,
            "grid_template_areas": null,
            "grid_template_columns": null,
            "grid_template_rows": null,
            "height": null,
            "justify_content": null,
            "justify_items": null,
            "left": null,
            "margin": null,
            "max_height": null,
            "max_width": null,
            "min_height": null,
            "min_width": null,
            "object_fit": null,
            "object_position": null,
            "order": null,
            "overflow": null,
            "overflow_x": null,
            "overflow_y": null,
            "padding": null,
            "right": null,
            "top": null,
            "visibility": null,
            "width": null
          }
        },
        "e91e6021bae94d43b8d68e1893e4ffdd": {
          "model_module": "@jupyter-widgets/controls",
          "model_name": "ProgressStyleModel",
          "model_module_version": "1.5.0",
          "state": {
            "_model_module": "@jupyter-widgets/controls",
            "_model_module_version": "1.5.0",
            "_model_name": "ProgressStyleModel",
            "_view_count": null,
            "_view_module": "@jupyter-widgets/base",
            "_view_module_version": "1.2.0",
            "_view_name": "StyleView",
            "bar_color": null,
            "description_width": ""
          }
        },
        "6a135803b2cb49ee85ff2ac8d4cdecfd": {
          "model_module": "@jupyter-widgets/base",
          "model_name": "LayoutModel",
          "model_module_version": "1.2.0",
          "state": {
            "_model_module": "@jupyter-widgets/base",
            "_model_module_version": "1.2.0",
            "_model_name": "LayoutModel",
            "_view_count": null,
            "_view_module": "@jupyter-widgets/base",
            "_view_module_version": "1.2.0",
            "_view_name": "LayoutView",
            "align_content": null,
            "align_items": null,
            "align_self": null,
            "border": null,
            "bottom": null,
            "display": null,
            "flex": null,
            "flex_flow": null,
            "grid_area": null,
            "grid_auto_columns": null,
            "grid_auto_flow": null,
            "grid_auto_rows": null,
            "grid_column": null,
            "grid_gap": null,
            "grid_row": null,
            "grid_template_areas": null,
            "grid_template_columns": null,
            "grid_template_rows": null,
            "height": null,
            "justify_content": null,
            "justify_items": null,
            "left": null,
            "margin": null,
            "max_height": null,
            "max_width": null,
            "min_height": null,
            "min_width": null,
            "object_fit": null,
            "object_position": null,
            "order": null,
            "overflow": null,
            "overflow_x": null,
            "overflow_y": null,
            "padding": null,
            "right": null,
            "top": null,
            "visibility": null,
            "width": null
          }
        },
        "877efff51d0a4115a2093fe207a5c6b7": {
          "model_module": "@jupyter-widgets/controls",
          "model_name": "DescriptionStyleModel",
          "model_module_version": "1.5.0",
          "state": {
            "_model_module": "@jupyter-widgets/controls",
            "_model_module_version": "1.5.0",
            "_model_name": "DescriptionStyleModel",
            "_view_count": null,
            "_view_module": "@jupyter-widgets/base",
            "_view_module_version": "1.2.0",
            "_view_name": "StyleView",
            "description_width": ""
          }
        },
        "2e642c916032472098cd03f7a5313153": {
          "model_module": "@jupyter-widgets/controls",
          "model_name": "HBoxModel",
          "model_module_version": "1.5.0",
          "state": {
            "_dom_classes": [],
            "_model_module": "@jupyter-widgets/controls",
            "_model_module_version": "1.5.0",
            "_model_name": "HBoxModel",
            "_view_count": null,
            "_view_module": "@jupyter-widgets/controls",
            "_view_module_version": "1.5.0",
            "_view_name": "HBoxView",
            "box_style": "",
            "children": [
              "IPY_MODEL_120a5d6a0d03454d9e56f28e4ac75b3a",
              "IPY_MODEL_98803cdf51c5414c92cbcf97e0bbfe0d",
              "IPY_MODEL_3607ca50838c42b8a51c33139c12174c"
            ],
            "layout": "IPY_MODEL_5796ed580e314a8d84942092e0a3edd0"
          }
        },
        "120a5d6a0d03454d9e56f28e4ac75b3a": {
          "model_module": "@jupyter-widgets/controls",
          "model_name": "HTMLModel",
          "model_module_version": "1.5.0",
          "state": {
            "_dom_classes": [],
            "_model_module": "@jupyter-widgets/controls",
            "_model_module_version": "1.5.0",
            "_model_name": "HTMLModel",
            "_view_count": null,
            "_view_module": "@jupyter-widgets/controls",
            "_view_module_version": "1.5.0",
            "_view_name": "HTMLView",
            "description": "",
            "description_tooltip": null,
            "layout": "IPY_MODEL_cdb34e557dcc47599c192dc4375d51ba",
            "placeholder": "​",
            "style": "IPY_MODEL_4a23726cc6a441c1be1c60e694fe28e9",
            "value": "100%"
          }
        },
        "98803cdf51c5414c92cbcf97e0bbfe0d": {
          "model_module": "@jupyter-widgets/controls",
          "model_name": "FloatProgressModel",
          "model_module_version": "1.5.0",
          "state": {
            "_dom_classes": [],
            "_model_module": "@jupyter-widgets/controls",
            "_model_module_version": "1.5.0",
            "_model_name": "FloatProgressModel",
            "_view_count": null,
            "_view_module": "@jupyter-widgets/controls",
            "_view_module_version": "1.5.0",
            "_view_name": "ProgressView",
            "bar_style": "success",
            "description": "",
            "description_tooltip": null,
            "layout": "IPY_MODEL_eeb91b870fa446e7a4ba3b314f14b591",
            "max": 6,
            "min": 0,
            "orientation": "horizontal",
            "style": "IPY_MODEL_4991871343924ce2b6a367565964e3a2",
            "value": 6
          }
        },
        "3607ca50838c42b8a51c33139c12174c": {
          "model_module": "@jupyter-widgets/controls",
          "model_name": "HTMLModel",
          "model_module_version": "1.5.0",
          "state": {
            "_dom_classes": [],
            "_model_module": "@jupyter-widgets/controls",
            "_model_module_version": "1.5.0",
            "_model_name": "HTMLModel",
            "_view_count": null,
            "_view_module": "@jupyter-widgets/controls",
            "_view_module_version": "1.5.0",
            "_view_name": "HTMLView",
            "description": "",
            "description_tooltip": null,
            "layout": "IPY_MODEL_bb180cbdb5d2486389eab48522f9cbd6",
            "placeholder": "​",
            "style": "IPY_MODEL_3ce6ccaf31dc4d65bd29667ca2a3fb2f",
            "value": " 6/6 [00:03&lt;00:00,  1.99ba/s]"
          }
        },
        "5796ed580e314a8d84942092e0a3edd0": {
          "model_module": "@jupyter-widgets/base",
          "model_name": "LayoutModel",
          "model_module_version": "1.2.0",
          "state": {
            "_model_module": "@jupyter-widgets/base",
            "_model_module_version": "1.2.0",
            "_model_name": "LayoutModel",
            "_view_count": null,
            "_view_module": "@jupyter-widgets/base",
            "_view_module_version": "1.2.0",
            "_view_name": "LayoutView",
            "align_content": null,
            "align_items": null,
            "align_self": null,
            "border": null,
            "bottom": null,
            "display": null,
            "flex": null,
            "flex_flow": null,
            "grid_area": null,
            "grid_auto_columns": null,
            "grid_auto_flow": null,
            "grid_auto_rows": null,
            "grid_column": null,
            "grid_gap": null,
            "grid_row": null,
            "grid_template_areas": null,
            "grid_template_columns": null,
            "grid_template_rows": null,
            "height": null,
            "justify_content": null,
            "justify_items": null,
            "left": null,
            "margin": null,
            "max_height": null,
            "max_width": null,
            "min_height": null,
            "min_width": null,
            "object_fit": null,
            "object_position": null,
            "order": null,
            "overflow": null,
            "overflow_x": null,
            "overflow_y": null,
            "padding": null,
            "right": null,
            "top": null,
            "visibility": null,
            "width": null
          }
        },
        "cdb34e557dcc47599c192dc4375d51ba": {
          "model_module": "@jupyter-widgets/base",
          "model_name": "LayoutModel",
          "model_module_version": "1.2.0",
          "state": {
            "_model_module": "@jupyter-widgets/base",
            "_model_module_version": "1.2.0",
            "_model_name": "LayoutModel",
            "_view_count": null,
            "_view_module": "@jupyter-widgets/base",
            "_view_module_version": "1.2.0",
            "_view_name": "LayoutView",
            "align_content": null,
            "align_items": null,
            "align_self": null,
            "border": null,
            "bottom": null,
            "display": null,
            "flex": null,
            "flex_flow": null,
            "grid_area": null,
            "grid_auto_columns": null,
            "grid_auto_flow": null,
            "grid_auto_rows": null,
            "grid_column": null,
            "grid_gap": null,
            "grid_row": null,
            "grid_template_areas": null,
            "grid_template_columns": null,
            "grid_template_rows": null,
            "height": null,
            "justify_content": null,
            "justify_items": null,
            "left": null,
            "margin": null,
            "max_height": null,
            "max_width": null,
            "min_height": null,
            "min_width": null,
            "object_fit": null,
            "object_position": null,
            "order": null,
            "overflow": null,
            "overflow_x": null,
            "overflow_y": null,
            "padding": null,
            "right": null,
            "top": null,
            "visibility": null,
            "width": null
          }
        },
        "4a23726cc6a441c1be1c60e694fe28e9": {
          "model_module": "@jupyter-widgets/controls",
          "model_name": "DescriptionStyleModel",
          "model_module_version": "1.5.0",
          "state": {
            "_model_module": "@jupyter-widgets/controls",
            "_model_module_version": "1.5.0",
            "_model_name": "DescriptionStyleModel",
            "_view_count": null,
            "_view_module": "@jupyter-widgets/base",
            "_view_module_version": "1.2.0",
            "_view_name": "StyleView",
            "description_width": ""
          }
        },
        "eeb91b870fa446e7a4ba3b314f14b591": {
          "model_module": "@jupyter-widgets/base",
          "model_name": "LayoutModel",
          "model_module_version": "1.2.0",
          "state": {
            "_model_module": "@jupyter-widgets/base",
            "_model_module_version": "1.2.0",
            "_model_name": "LayoutModel",
            "_view_count": null,
            "_view_module": "@jupyter-widgets/base",
            "_view_module_version": "1.2.0",
            "_view_name": "LayoutView",
            "align_content": null,
            "align_items": null,
            "align_self": null,
            "border": null,
            "bottom": null,
            "display": null,
            "flex": null,
            "flex_flow": null,
            "grid_area": null,
            "grid_auto_columns": null,
            "grid_auto_flow": null,
            "grid_auto_rows": null,
            "grid_column": null,
            "grid_gap": null,
            "grid_row": null,
            "grid_template_areas": null,
            "grid_template_columns": null,
            "grid_template_rows": null,
            "height": null,
            "justify_content": null,
            "justify_items": null,
            "left": null,
            "margin": null,
            "max_height": null,
            "max_width": null,
            "min_height": null,
            "min_width": null,
            "object_fit": null,
            "object_position": null,
            "order": null,
            "overflow": null,
            "overflow_x": null,
            "overflow_y": null,
            "padding": null,
            "right": null,
            "top": null,
            "visibility": null,
            "width": null
          }
        },
        "4991871343924ce2b6a367565964e3a2": {
          "model_module": "@jupyter-widgets/controls",
          "model_name": "ProgressStyleModel",
          "model_module_version": "1.5.0",
          "state": {
            "_model_module": "@jupyter-widgets/controls",
            "_model_module_version": "1.5.0",
            "_model_name": "ProgressStyleModel",
            "_view_count": null,
            "_view_module": "@jupyter-widgets/base",
            "_view_module_version": "1.2.0",
            "_view_name": "StyleView",
            "bar_color": null,
            "description_width": ""
          }
        },
        "bb180cbdb5d2486389eab48522f9cbd6": {
          "model_module": "@jupyter-widgets/base",
          "model_name": "LayoutModel",
          "model_module_version": "1.2.0",
          "state": {
            "_model_module": "@jupyter-widgets/base",
            "_model_module_version": "1.2.0",
            "_model_name": "LayoutModel",
            "_view_count": null,
            "_view_module": "@jupyter-widgets/base",
            "_view_module_version": "1.2.0",
            "_view_name": "LayoutView",
            "align_content": null,
            "align_items": null,
            "align_self": null,
            "border": null,
            "bottom": null,
            "display": null,
            "flex": null,
            "flex_flow": null,
            "grid_area": null,
            "grid_auto_columns": null,
            "grid_auto_flow": null,
            "grid_auto_rows": null,
            "grid_column": null,
            "grid_gap": null,
            "grid_row": null,
            "grid_template_areas": null,
            "grid_template_columns": null,
            "grid_template_rows": null,
            "height": null,
            "justify_content": null,
            "justify_items": null,
            "left": null,
            "margin": null,
            "max_height": null,
            "max_width": null,
            "min_height": null,
            "min_width": null,
            "object_fit": null,
            "object_position": null,
            "order": null,
            "overflow": null,
            "overflow_x": null,
            "overflow_y": null,
            "padding": null,
            "right": null,
            "top": null,
            "visibility": null,
            "width": null
          }
        },
        "3ce6ccaf31dc4d65bd29667ca2a3fb2f": {
          "model_module": "@jupyter-widgets/controls",
          "model_name": "DescriptionStyleModel",
          "model_module_version": "1.5.0",
          "state": {
            "_model_module": "@jupyter-widgets/controls",
            "_model_module_version": "1.5.0",
            "_model_name": "DescriptionStyleModel",
            "_view_count": null,
            "_view_module": "@jupyter-widgets/base",
            "_view_module_version": "1.2.0",
            "_view_name": "StyleView",
            "description_width": ""
          }
        },
        "54e6c63d2f3043ab9d90f9760073f9ae": {
          "model_module": "@jupyter-widgets/controls",
          "model_name": "HBoxModel",
          "model_module_version": "1.5.0",
          "state": {
            "_dom_classes": [],
            "_model_module": "@jupyter-widgets/controls",
            "_model_module_version": "1.5.0",
            "_model_name": "HBoxModel",
            "_view_count": null,
            "_view_module": "@jupyter-widgets/controls",
            "_view_module_version": "1.5.0",
            "_view_name": "HBoxView",
            "box_style": "",
            "children": [
              "IPY_MODEL_2cc8dc9431c84056a0bde469c8fc90de",
              "IPY_MODEL_ee8e6008a61243fa87915984344a03f9",
              "IPY_MODEL_65cb4870e896420d99c4779417b64f37"
            ],
            "layout": "IPY_MODEL_6f75245a14f148189367945181378636"
          }
        },
        "2cc8dc9431c84056a0bde469c8fc90de": {
          "model_module": "@jupyter-widgets/controls",
          "model_name": "HTMLModel",
          "model_module_version": "1.5.0",
          "state": {
            "_dom_classes": [],
            "_model_module": "@jupyter-widgets/controls",
            "_model_module_version": "1.5.0",
            "_model_name": "HTMLModel",
            "_view_count": null,
            "_view_module": "@jupyter-widgets/controls",
            "_view_module_version": "1.5.0",
            "_view_name": "HTMLView",
            "description": "",
            "description_tooltip": null,
            "layout": "IPY_MODEL_4f347e7a0281451f90d790ba836a7284",
            "placeholder": "​",
            "style": "IPY_MODEL_7b4218b74d4e4326907baca09c67885f",
            "value": "100%"
          }
        },
        "ee8e6008a61243fa87915984344a03f9": {
          "model_module": "@jupyter-widgets/controls",
          "model_name": "FloatProgressModel",
          "model_module_version": "1.5.0",
          "state": {
            "_dom_classes": [],
            "_model_module": "@jupyter-widgets/controls",
            "_model_module_version": "1.5.0",
            "_model_name": "FloatProgressModel",
            "_view_count": null,
            "_view_module": "@jupyter-widgets/controls",
            "_view_module_version": "1.5.0",
            "_view_name": "ProgressView",
            "bar_style": "success",
            "description": "",
            "description_tooltip": null,
            "layout": "IPY_MODEL_a1299902d28046518ea9151dd7707646",
            "max": 1,
            "min": 0,
            "orientation": "horizontal",
            "style": "IPY_MODEL_46ecde554bb440deb84c48d22d6ab568",
            "value": 1
          }
        },
        "65cb4870e896420d99c4779417b64f37": {
          "model_module": "@jupyter-widgets/controls",
          "model_name": "HTMLModel",
          "model_module_version": "1.5.0",
          "state": {
            "_dom_classes": [],
            "_model_module": "@jupyter-widgets/controls",
            "_model_module_version": "1.5.0",
            "_model_name": "HTMLModel",
            "_view_count": null,
            "_view_module": "@jupyter-widgets/controls",
            "_view_module_version": "1.5.0",
            "_view_name": "HTMLView",
            "description": "",
            "description_tooltip": null,
            "layout": "IPY_MODEL_78b8fb15cfec44bd8e471ee14c5ee8f9",
            "placeholder": "​",
            "style": "IPY_MODEL_64f520847dbe4d8da3b73620393fde7c",
            "value": " 1/1 [00:00&lt;00:00, 15.02ba/s]"
          }
        },
        "6f75245a14f148189367945181378636": {
          "model_module": "@jupyter-widgets/base",
          "model_name": "LayoutModel",
          "model_module_version": "1.2.0",
          "state": {
            "_model_module": "@jupyter-widgets/base",
            "_model_module_version": "1.2.0",
            "_model_name": "LayoutModel",
            "_view_count": null,
            "_view_module": "@jupyter-widgets/base",
            "_view_module_version": "1.2.0",
            "_view_name": "LayoutView",
            "align_content": null,
            "align_items": null,
            "align_self": null,
            "border": null,
            "bottom": null,
            "display": null,
            "flex": null,
            "flex_flow": null,
            "grid_area": null,
            "grid_auto_columns": null,
            "grid_auto_flow": null,
            "grid_auto_rows": null,
            "grid_column": null,
            "grid_gap": null,
            "grid_row": null,
            "grid_template_areas": null,
            "grid_template_columns": null,
            "grid_template_rows": null,
            "height": null,
            "justify_content": null,
            "justify_items": null,
            "left": null,
            "margin": null,
            "max_height": null,
            "max_width": null,
            "min_height": null,
            "min_width": null,
            "object_fit": null,
            "object_position": null,
            "order": null,
            "overflow": null,
            "overflow_x": null,
            "overflow_y": null,
            "padding": null,
            "right": null,
            "top": null,
            "visibility": null,
            "width": null
          }
        },
        "4f347e7a0281451f90d790ba836a7284": {
          "model_module": "@jupyter-widgets/base",
          "model_name": "LayoutModel",
          "model_module_version": "1.2.0",
          "state": {
            "_model_module": "@jupyter-widgets/base",
            "_model_module_version": "1.2.0",
            "_model_name": "LayoutModel",
            "_view_count": null,
            "_view_module": "@jupyter-widgets/base",
            "_view_module_version": "1.2.0",
            "_view_name": "LayoutView",
            "align_content": null,
            "align_items": null,
            "align_self": null,
            "border": null,
            "bottom": null,
            "display": null,
            "flex": null,
            "flex_flow": null,
            "grid_area": null,
            "grid_auto_columns": null,
            "grid_auto_flow": null,
            "grid_auto_rows": null,
            "grid_column": null,
            "grid_gap": null,
            "grid_row": null,
            "grid_template_areas": null,
            "grid_template_columns": null,
            "grid_template_rows": null,
            "height": null,
            "justify_content": null,
            "justify_items": null,
            "left": null,
            "margin": null,
            "max_height": null,
            "max_width": null,
            "min_height": null,
            "min_width": null,
            "object_fit": null,
            "object_position": null,
            "order": null,
            "overflow": null,
            "overflow_x": null,
            "overflow_y": null,
            "padding": null,
            "right": null,
            "top": null,
            "visibility": null,
            "width": null
          }
        },
        "7b4218b74d4e4326907baca09c67885f": {
          "model_module": "@jupyter-widgets/controls",
          "model_name": "DescriptionStyleModel",
          "model_module_version": "1.5.0",
          "state": {
            "_model_module": "@jupyter-widgets/controls",
            "_model_module_version": "1.5.0",
            "_model_name": "DescriptionStyleModel",
            "_view_count": null,
            "_view_module": "@jupyter-widgets/base",
            "_view_module_version": "1.2.0",
            "_view_name": "StyleView",
            "description_width": ""
          }
        },
        "a1299902d28046518ea9151dd7707646": {
          "model_module": "@jupyter-widgets/base",
          "model_name": "LayoutModel",
          "model_module_version": "1.2.0",
          "state": {
            "_model_module": "@jupyter-widgets/base",
            "_model_module_version": "1.2.0",
            "_model_name": "LayoutModel",
            "_view_count": null,
            "_view_module": "@jupyter-widgets/base",
            "_view_module_version": "1.2.0",
            "_view_name": "LayoutView",
            "align_content": null,
            "align_items": null,
            "align_self": null,
            "border": null,
            "bottom": null,
            "display": null,
            "flex": null,
            "flex_flow": null,
            "grid_area": null,
            "grid_auto_columns": null,
            "grid_auto_flow": null,
            "grid_auto_rows": null,
            "grid_column": null,
            "grid_gap": null,
            "grid_row": null,
            "grid_template_areas": null,
            "grid_template_columns": null,
            "grid_template_rows": null,
            "height": null,
            "justify_content": null,
            "justify_items": null,
            "left": null,
            "margin": null,
            "max_height": null,
            "max_width": null,
            "min_height": null,
            "min_width": null,
            "object_fit": null,
            "object_position": null,
            "order": null,
            "overflow": null,
            "overflow_x": null,
            "overflow_y": null,
            "padding": null,
            "right": null,
            "top": null,
            "visibility": null,
            "width": null
          }
        },
        "46ecde554bb440deb84c48d22d6ab568": {
          "model_module": "@jupyter-widgets/controls",
          "model_name": "ProgressStyleModel",
          "model_module_version": "1.5.0",
          "state": {
            "_model_module": "@jupyter-widgets/controls",
            "_model_module_version": "1.5.0",
            "_model_name": "ProgressStyleModel",
            "_view_count": null,
            "_view_module": "@jupyter-widgets/base",
            "_view_module_version": "1.2.0",
            "_view_name": "StyleView",
            "bar_color": null,
            "description_width": ""
          }
        },
        "78b8fb15cfec44bd8e471ee14c5ee8f9": {
          "model_module": "@jupyter-widgets/base",
          "model_name": "LayoutModel",
          "model_module_version": "1.2.0",
          "state": {
            "_model_module": "@jupyter-widgets/base",
            "_model_module_version": "1.2.0",
            "_model_name": "LayoutModel",
            "_view_count": null,
            "_view_module": "@jupyter-widgets/base",
            "_view_module_version": "1.2.0",
            "_view_name": "LayoutView",
            "align_content": null,
            "align_items": null,
            "align_self": null,
            "border": null,
            "bottom": null,
            "display": null,
            "flex": null,
            "flex_flow": null,
            "grid_area": null,
            "grid_auto_columns": null,
            "grid_auto_flow": null,
            "grid_auto_rows": null,
            "grid_column": null,
            "grid_gap": null,
            "grid_row": null,
            "grid_template_areas": null,
            "grid_template_columns": null,
            "grid_template_rows": null,
            "height": null,
            "justify_content": null,
            "justify_items": null,
            "left": null,
            "margin": null,
            "max_height": null,
            "max_width": null,
            "min_height": null,
            "min_width": null,
            "object_fit": null,
            "object_position": null,
            "order": null,
            "overflow": null,
            "overflow_x": null,
            "overflow_y": null,
            "padding": null,
            "right": null,
            "top": null,
            "visibility": null,
            "width": null
          }
        },
        "64f520847dbe4d8da3b73620393fde7c": {
          "model_module": "@jupyter-widgets/controls",
          "model_name": "DescriptionStyleModel",
          "model_module_version": "1.5.0",
          "state": {
            "_model_module": "@jupyter-widgets/controls",
            "_model_module_version": "1.5.0",
            "_model_name": "DescriptionStyleModel",
            "_view_count": null,
            "_view_module": "@jupyter-widgets/base",
            "_view_module_version": "1.2.0",
            "_view_name": "StyleView",
            "description_width": ""
          }
        },
        "81149a67302a413bb95dd41f995ca8cf": {
          "model_module": "@jupyter-widgets/controls",
          "model_name": "HBoxModel",
          "model_module_version": "1.5.0",
          "state": {
            "_dom_classes": [],
            "_model_module": "@jupyter-widgets/controls",
            "_model_module_version": "1.5.0",
            "_model_name": "HBoxModel",
            "_view_count": null,
            "_view_module": "@jupyter-widgets/controls",
            "_view_module_version": "1.5.0",
            "_view_name": "HBoxView",
            "box_style": "",
            "children": [
              "IPY_MODEL_36aecd04756e4b4d9670c21c25f89449",
              "IPY_MODEL_7ac8b4adc1ff4f4580aedc17a4d885a5",
              "IPY_MODEL_39d445420b384494bd6aa3347624b44c"
            ],
            "layout": "IPY_MODEL_93bd9a43a76040feadabdadd8dd83dae"
          }
        },
        "36aecd04756e4b4d9670c21c25f89449": {
          "model_module": "@jupyter-widgets/controls",
          "model_name": "HTMLModel",
          "model_module_version": "1.5.0",
          "state": {
            "_dom_classes": [],
            "_model_module": "@jupyter-widgets/controls",
            "_model_module_version": "1.5.0",
            "_model_name": "HTMLModel",
            "_view_count": null,
            "_view_module": "@jupyter-widgets/controls",
            "_view_module_version": "1.5.0",
            "_view_name": "HTMLView",
            "description": "",
            "description_tooltip": null,
            "layout": "IPY_MODEL_65614112dc374959bab5f3ab2f303521",
            "placeholder": "​",
            "style": "IPY_MODEL_3919f4d43f9640eb917798c519b3fa9b",
            "value": "100%"
          }
        },
        "7ac8b4adc1ff4f4580aedc17a4d885a5": {
          "model_module": "@jupyter-widgets/controls",
          "model_name": "FloatProgressModel",
          "model_module_version": "1.5.0",
          "state": {
            "_dom_classes": [],
            "_model_module": "@jupyter-widgets/controls",
            "_model_module_version": "1.5.0",
            "_model_name": "FloatProgressModel",
            "_view_count": null,
            "_view_module": "@jupyter-widgets/controls",
            "_view_module_version": "1.5.0",
            "_view_name": "ProgressView",
            "bar_style": "success",
            "description": "",
            "description_tooltip": null,
            "layout": "IPY_MODEL_957c7d082a854185b89f9790b5832b53",
            "max": 5928,
            "min": 0,
            "orientation": "horizontal",
            "style": "IPY_MODEL_140750af9ad2445a9201ed5d80690478",
            "value": 5928
          }
        },
        "39d445420b384494bd6aa3347624b44c": {
          "model_module": "@jupyter-widgets/controls",
          "model_name": "HTMLModel",
          "model_module_version": "1.5.0",
          "state": {
            "_dom_classes": [],
            "_model_module": "@jupyter-widgets/controls",
            "_model_module_version": "1.5.0",
            "_model_name": "HTMLModel",
            "_view_count": null,
            "_view_module": "@jupyter-widgets/controls",
            "_view_module_version": "1.5.0",
            "_view_name": "HTMLView",
            "description": "",
            "description_tooltip": null,
            "layout": "IPY_MODEL_674dd987b2144038b6c3cd07e62593cc",
            "placeholder": "​",
            "style": "IPY_MODEL_6f3a6615937d4dbd92b2eb14fa729e6a",
            "value": " 5928/5928 [00:09&lt;00:00, 661.15it/s]"
          }
        },
        "93bd9a43a76040feadabdadd8dd83dae": {
          "model_module": "@jupyter-widgets/base",
          "model_name": "LayoutModel",
          "model_module_version": "1.2.0",
          "state": {
            "_model_module": "@jupyter-widgets/base",
            "_model_module_version": "1.2.0",
            "_model_name": "LayoutModel",
            "_view_count": null,
            "_view_module": "@jupyter-widgets/base",
            "_view_module_version": "1.2.0",
            "_view_name": "LayoutView",
            "align_content": null,
            "align_items": null,
            "align_self": null,
            "border": null,
            "bottom": null,
            "display": null,
            "flex": null,
            "flex_flow": null,
            "grid_area": null,
            "grid_auto_columns": null,
            "grid_auto_flow": null,
            "grid_auto_rows": null,
            "grid_column": null,
            "grid_gap": null,
            "grid_row": null,
            "grid_template_areas": null,
            "grid_template_columns": null,
            "grid_template_rows": null,
            "height": null,
            "justify_content": null,
            "justify_items": null,
            "left": null,
            "margin": null,
            "max_height": null,
            "max_width": null,
            "min_height": null,
            "min_width": null,
            "object_fit": null,
            "object_position": null,
            "order": null,
            "overflow": null,
            "overflow_x": null,
            "overflow_y": null,
            "padding": null,
            "right": null,
            "top": null,
            "visibility": null,
            "width": null
          }
        },
        "65614112dc374959bab5f3ab2f303521": {
          "model_module": "@jupyter-widgets/base",
          "model_name": "LayoutModel",
          "model_module_version": "1.2.0",
          "state": {
            "_model_module": "@jupyter-widgets/base",
            "_model_module_version": "1.2.0",
            "_model_name": "LayoutModel",
            "_view_count": null,
            "_view_module": "@jupyter-widgets/base",
            "_view_module_version": "1.2.0",
            "_view_name": "LayoutView",
            "align_content": null,
            "align_items": null,
            "align_self": null,
            "border": null,
            "bottom": null,
            "display": null,
            "flex": null,
            "flex_flow": null,
            "grid_area": null,
            "grid_auto_columns": null,
            "grid_auto_flow": null,
            "grid_auto_rows": null,
            "grid_column": null,
            "grid_gap": null,
            "grid_row": null,
            "grid_template_areas": null,
            "grid_template_columns": null,
            "grid_template_rows": null,
            "height": null,
            "justify_content": null,
            "justify_items": null,
            "left": null,
            "margin": null,
            "max_height": null,
            "max_width": null,
            "min_height": null,
            "min_width": null,
            "object_fit": null,
            "object_position": null,
            "order": null,
            "overflow": null,
            "overflow_x": null,
            "overflow_y": null,
            "padding": null,
            "right": null,
            "top": null,
            "visibility": null,
            "width": null
          }
        },
        "3919f4d43f9640eb917798c519b3fa9b": {
          "model_module": "@jupyter-widgets/controls",
          "model_name": "DescriptionStyleModel",
          "model_module_version": "1.5.0",
          "state": {
            "_model_module": "@jupyter-widgets/controls",
            "_model_module_version": "1.5.0",
            "_model_name": "DescriptionStyleModel",
            "_view_count": null,
            "_view_module": "@jupyter-widgets/base",
            "_view_module_version": "1.2.0",
            "_view_name": "StyleView",
            "description_width": ""
          }
        },
        "957c7d082a854185b89f9790b5832b53": {
          "model_module": "@jupyter-widgets/base",
          "model_name": "LayoutModel",
          "model_module_version": "1.2.0",
          "state": {
            "_model_module": "@jupyter-widgets/base",
            "_model_module_version": "1.2.0",
            "_model_name": "LayoutModel",
            "_view_count": null,
            "_view_module": "@jupyter-widgets/base",
            "_view_module_version": "1.2.0",
            "_view_name": "LayoutView",
            "align_content": null,
            "align_items": null,
            "align_self": null,
            "border": null,
            "bottom": null,
            "display": null,
            "flex": null,
            "flex_flow": null,
            "grid_area": null,
            "grid_auto_columns": null,
            "grid_auto_flow": null,
            "grid_auto_rows": null,
            "grid_column": null,
            "grid_gap": null,
            "grid_row": null,
            "grid_template_areas": null,
            "grid_template_columns": null,
            "grid_template_rows": null,
            "height": null,
            "justify_content": null,
            "justify_items": null,
            "left": null,
            "margin": null,
            "max_height": null,
            "max_width": null,
            "min_height": null,
            "min_width": null,
            "object_fit": null,
            "object_position": null,
            "order": null,
            "overflow": null,
            "overflow_x": null,
            "overflow_y": null,
            "padding": null,
            "right": null,
            "top": null,
            "visibility": null,
            "width": null
          }
        },
        "140750af9ad2445a9201ed5d80690478": {
          "model_module": "@jupyter-widgets/controls",
          "model_name": "ProgressStyleModel",
          "model_module_version": "1.5.0",
          "state": {
            "_model_module": "@jupyter-widgets/controls",
            "_model_module_version": "1.5.0",
            "_model_name": "ProgressStyleModel",
            "_view_count": null,
            "_view_module": "@jupyter-widgets/base",
            "_view_module_version": "1.2.0",
            "_view_name": "StyleView",
            "bar_color": null,
            "description_width": ""
          }
        },
        "674dd987b2144038b6c3cd07e62593cc": {
          "model_module": "@jupyter-widgets/base",
          "model_name": "LayoutModel",
          "model_module_version": "1.2.0",
          "state": {
            "_model_module": "@jupyter-widgets/base",
            "_model_module_version": "1.2.0",
            "_model_name": "LayoutModel",
            "_view_count": null,
            "_view_module": "@jupyter-widgets/base",
            "_view_module_version": "1.2.0",
            "_view_name": "LayoutView",
            "align_content": null,
            "align_items": null,
            "align_self": null,
            "border": null,
            "bottom": null,
            "display": null,
            "flex": null,
            "flex_flow": null,
            "grid_area": null,
            "grid_auto_columns": null,
            "grid_auto_flow": null,
            "grid_auto_rows": null,
            "grid_column": null,
            "grid_gap": null,
            "grid_row": null,
            "grid_template_areas": null,
            "grid_template_columns": null,
            "grid_template_rows": null,
            "height": null,
            "justify_content": null,
            "justify_items": null,
            "left": null,
            "margin": null,
            "max_height": null,
            "max_width": null,
            "min_height": null,
            "min_width": null,
            "object_fit": null,
            "object_position": null,
            "order": null,
            "overflow": null,
            "overflow_x": null,
            "overflow_y": null,
            "padding": null,
            "right": null,
            "top": null,
            "visibility": null,
            "width": null
          }
        },
        "6f3a6615937d4dbd92b2eb14fa729e6a": {
          "model_module": "@jupyter-widgets/controls",
          "model_name": "DescriptionStyleModel",
          "model_module_version": "1.5.0",
          "state": {
            "_model_module": "@jupyter-widgets/controls",
            "_model_module_version": "1.5.0",
            "_model_name": "DescriptionStyleModel",
            "_view_count": null,
            "_view_module": "@jupyter-widgets/base",
            "_view_module_version": "1.2.0",
            "_view_name": "StyleView",
            "description_width": ""
          }
        },
        "ad46be7720834769bfe965b0986e1977": {
          "model_module": "@jupyter-widgets/controls",
          "model_name": "HBoxModel",
          "model_module_version": "1.5.0",
          "state": {
            "_dom_classes": [],
            "_model_module": "@jupyter-widgets/controls",
            "_model_module_version": "1.5.0",
            "_model_name": "HBoxModel",
            "_view_count": null,
            "_view_module": "@jupyter-widgets/controls",
            "_view_module_version": "1.5.0",
            "_view_name": "HBoxView",
            "box_style": "",
            "children": [
              "IPY_MODEL_12c5a509fc4a429da54c3a211d48c42f",
              "IPY_MODEL_d62765e5fc944e03a9c4c3baf0eed4e6",
              "IPY_MODEL_be792ed03e6d40b39357f70675870c70"
            ],
            "layout": "IPY_MODEL_9ceb8403d2c54446a6cc219db52a6187"
          }
        },
        "12c5a509fc4a429da54c3a211d48c42f": {
          "model_module": "@jupyter-widgets/controls",
          "model_name": "HTMLModel",
          "model_module_version": "1.5.0",
          "state": {
            "_dom_classes": [],
            "_model_module": "@jupyter-widgets/controls",
            "_model_module_version": "1.5.0",
            "_model_name": "HTMLModel",
            "_view_count": null,
            "_view_module": "@jupyter-widgets/controls",
            "_view_module_version": "1.5.0",
            "_view_name": "HTMLView",
            "description": "",
            "description_tooltip": null,
            "layout": "IPY_MODEL_25b414febbfa444c83329da1b8b32786",
            "placeholder": "​",
            "style": "IPY_MODEL_4e878a798bbf4e2e87ec93b9a01bf024",
            "value": "100%"
          }
        },
        "d62765e5fc944e03a9c4c3baf0eed4e6": {
          "model_module": "@jupyter-widgets/controls",
          "model_name": "FloatProgressModel",
          "model_module_version": "1.5.0",
          "state": {
            "_dom_classes": [],
            "_model_module": "@jupyter-widgets/controls",
            "_model_module_version": "1.5.0",
            "_model_name": "FloatProgressModel",
            "_view_count": null,
            "_view_module": "@jupyter-widgets/controls",
            "_view_module_version": "1.5.0",
            "_view_name": "ProgressView",
            "bar_style": "success",
            "description": "",
            "description_tooltip": null,
            "layout": "IPY_MODEL_1905980677c2408ea9652f68bc3fa779",
            "max": 5928,
            "min": 0,
            "orientation": "horizontal",
            "style": "IPY_MODEL_938243dc07f94819ba47ececb543ca60",
            "value": 5928
          }
        },
        "be792ed03e6d40b39357f70675870c70": {
          "model_module": "@jupyter-widgets/controls",
          "model_name": "HTMLModel",
          "model_module_version": "1.5.0",
          "state": {
            "_dom_classes": [],
            "_model_module": "@jupyter-widgets/controls",
            "_model_module_version": "1.5.0",
            "_model_name": "HTMLModel",
            "_view_count": null,
            "_view_module": "@jupyter-widgets/controls",
            "_view_module_version": "1.5.0",
            "_view_name": "HTMLView",
            "description": "",
            "description_tooltip": null,
            "layout": "IPY_MODEL_cad1558879a74b68bcc75dc92ddd5f2a",
            "placeholder": "​",
            "style": "IPY_MODEL_59fca02dc3af4b9790ae6bfdb6e7d3c8",
            "value": " 5928/5928 [00:09&lt;00:00, 665.12it/s]"
          }
        },
        "9ceb8403d2c54446a6cc219db52a6187": {
          "model_module": "@jupyter-widgets/base",
          "model_name": "LayoutModel",
          "model_module_version": "1.2.0",
          "state": {
            "_model_module": "@jupyter-widgets/base",
            "_model_module_version": "1.2.0",
            "_model_name": "LayoutModel",
            "_view_count": null,
            "_view_module": "@jupyter-widgets/base",
            "_view_module_version": "1.2.0",
            "_view_name": "LayoutView",
            "align_content": null,
            "align_items": null,
            "align_self": null,
            "border": null,
            "bottom": null,
            "display": null,
            "flex": null,
            "flex_flow": null,
            "grid_area": null,
            "grid_auto_columns": null,
            "grid_auto_flow": null,
            "grid_auto_rows": null,
            "grid_column": null,
            "grid_gap": null,
            "grid_row": null,
            "grid_template_areas": null,
            "grid_template_columns": null,
            "grid_template_rows": null,
            "height": null,
            "justify_content": null,
            "justify_items": null,
            "left": null,
            "margin": null,
            "max_height": null,
            "max_width": null,
            "min_height": null,
            "min_width": null,
            "object_fit": null,
            "object_position": null,
            "order": null,
            "overflow": null,
            "overflow_x": null,
            "overflow_y": null,
            "padding": null,
            "right": null,
            "top": null,
            "visibility": null,
            "width": null
          }
        },
        "25b414febbfa444c83329da1b8b32786": {
          "model_module": "@jupyter-widgets/base",
          "model_name": "LayoutModel",
          "model_module_version": "1.2.0",
          "state": {
            "_model_module": "@jupyter-widgets/base",
            "_model_module_version": "1.2.0",
            "_model_name": "LayoutModel",
            "_view_count": null,
            "_view_module": "@jupyter-widgets/base",
            "_view_module_version": "1.2.0",
            "_view_name": "LayoutView",
            "align_content": null,
            "align_items": null,
            "align_self": null,
            "border": null,
            "bottom": null,
            "display": null,
            "flex": null,
            "flex_flow": null,
            "grid_area": null,
            "grid_auto_columns": null,
            "grid_auto_flow": null,
            "grid_auto_rows": null,
            "grid_column": null,
            "grid_gap": null,
            "grid_row": null,
            "grid_template_areas": null,
            "grid_template_columns": null,
            "grid_template_rows": null,
            "height": null,
            "justify_content": null,
            "justify_items": null,
            "left": null,
            "margin": null,
            "max_height": null,
            "max_width": null,
            "min_height": null,
            "min_width": null,
            "object_fit": null,
            "object_position": null,
            "order": null,
            "overflow": null,
            "overflow_x": null,
            "overflow_y": null,
            "padding": null,
            "right": null,
            "top": null,
            "visibility": null,
            "width": null
          }
        },
        "4e878a798bbf4e2e87ec93b9a01bf024": {
          "model_module": "@jupyter-widgets/controls",
          "model_name": "DescriptionStyleModel",
          "model_module_version": "1.5.0",
          "state": {
            "_model_module": "@jupyter-widgets/controls",
            "_model_module_version": "1.5.0",
            "_model_name": "DescriptionStyleModel",
            "_view_count": null,
            "_view_module": "@jupyter-widgets/base",
            "_view_module_version": "1.2.0",
            "_view_name": "StyleView",
            "description_width": ""
          }
        },
        "1905980677c2408ea9652f68bc3fa779": {
          "model_module": "@jupyter-widgets/base",
          "model_name": "LayoutModel",
          "model_module_version": "1.2.0",
          "state": {
            "_model_module": "@jupyter-widgets/base",
            "_model_module_version": "1.2.0",
            "_model_name": "LayoutModel",
            "_view_count": null,
            "_view_module": "@jupyter-widgets/base",
            "_view_module_version": "1.2.0",
            "_view_name": "LayoutView",
            "align_content": null,
            "align_items": null,
            "align_self": null,
            "border": null,
            "bottom": null,
            "display": null,
            "flex": null,
            "flex_flow": null,
            "grid_area": null,
            "grid_auto_columns": null,
            "grid_auto_flow": null,
            "grid_auto_rows": null,
            "grid_column": null,
            "grid_gap": null,
            "grid_row": null,
            "grid_template_areas": null,
            "grid_template_columns": null,
            "grid_template_rows": null,
            "height": null,
            "justify_content": null,
            "justify_items": null,
            "left": null,
            "margin": null,
            "max_height": null,
            "max_width": null,
            "min_height": null,
            "min_width": null,
            "object_fit": null,
            "object_position": null,
            "order": null,
            "overflow": null,
            "overflow_x": null,
            "overflow_y": null,
            "padding": null,
            "right": null,
            "top": null,
            "visibility": null,
            "width": null
          }
        },
        "938243dc07f94819ba47ececb543ca60": {
          "model_module": "@jupyter-widgets/controls",
          "model_name": "ProgressStyleModel",
          "model_module_version": "1.5.0",
          "state": {
            "_model_module": "@jupyter-widgets/controls",
            "_model_module_version": "1.5.0",
            "_model_name": "ProgressStyleModel",
            "_view_count": null,
            "_view_module": "@jupyter-widgets/base",
            "_view_module_version": "1.2.0",
            "_view_name": "StyleView",
            "bar_color": null,
            "description_width": ""
          }
        },
        "cad1558879a74b68bcc75dc92ddd5f2a": {
          "model_module": "@jupyter-widgets/base",
          "model_name": "LayoutModel",
          "model_module_version": "1.2.0",
          "state": {
            "_model_module": "@jupyter-widgets/base",
            "_model_module_version": "1.2.0",
            "_model_name": "LayoutModel",
            "_view_count": null,
            "_view_module": "@jupyter-widgets/base",
            "_view_module_version": "1.2.0",
            "_view_name": "LayoutView",
            "align_content": null,
            "align_items": null,
            "align_self": null,
            "border": null,
            "bottom": null,
            "display": null,
            "flex": null,
            "flex_flow": null,
            "grid_area": null,
            "grid_auto_columns": null,
            "grid_auto_flow": null,
            "grid_auto_rows": null,
            "grid_column": null,
            "grid_gap": null,
            "grid_row": null,
            "grid_template_areas": null,
            "grid_template_columns": null,
            "grid_template_rows": null,
            "height": null,
            "justify_content": null,
            "justify_items": null,
            "left": null,
            "margin": null,
            "max_height": null,
            "max_width": null,
            "min_height": null,
            "min_width": null,
            "object_fit": null,
            "object_position": null,
            "order": null,
            "overflow": null,
            "overflow_x": null,
            "overflow_y": null,
            "padding": null,
            "right": null,
            "top": null,
            "visibility": null,
            "width": null
          }
        },
        "59fca02dc3af4b9790ae6bfdb6e7d3c8": {
          "model_module": "@jupyter-widgets/controls",
          "model_name": "DescriptionStyleModel",
          "model_module_version": "1.5.0",
          "state": {
            "_model_module": "@jupyter-widgets/controls",
            "_model_module_version": "1.5.0",
            "_model_name": "DescriptionStyleModel",
            "_view_count": null,
            "_view_module": "@jupyter-widgets/base",
            "_view_module_version": "1.2.0",
            "_view_name": "StyleView",
            "description_width": ""
          }
        }
      }
    }
  },
  "nbformat": 4,
  "nbformat_minor": 0
}